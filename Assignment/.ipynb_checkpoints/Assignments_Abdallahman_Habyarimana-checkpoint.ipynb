{
 "cells": [
  {
   "cell_type": "code",
   "execution_count": 1,
   "metadata": {},
   "outputs": [],
   "source": [
    "import pandas as pd"
   ]
  },
  {
   "cell_type": "code",
   "execution_count": 2,
   "metadata": {},
   "outputs": [],
   "source": [
    "#converting the json files into pandas dataFrames\n",
    "df_train = pd.read_json(\"train.json\")\n",
    "df_test = pd.read_json(\"test.json\")"
   ]
  },
  {
   "cell_type": "code",
   "execution_count": 3,
   "metadata": {},
   "outputs": [
    {
     "data": {
      "text/html": [
       "<div>\n",
       "<style scoped>\n",
       "    .dataframe tbody tr th:only-of-type {\n",
       "        vertical-align: middle;\n",
       "    }\n",
       "\n",
       "    .dataframe tbody tr th {\n",
       "        vertical-align: top;\n",
       "    }\n",
       "\n",
       "    .dataframe thead th {\n",
       "        text-align: right;\n",
       "    }\n",
       "</style>\n",
       "<table border=\"1\" class=\"dataframe\">\n",
       "  <thead>\n",
       "    <tr style=\"text-align: right;\">\n",
       "      <th></th>\n",
       "      <th>id</th>\n",
       "    </tr>\n",
       "  </thead>\n",
       "  <tbody>\n",
       "    <tr>\n",
       "      <th>count</th>\n",
       "      <td>29774.000000</td>\n",
       "    </tr>\n",
       "    <tr>\n",
       "      <th>mean</th>\n",
       "      <td>14886.500000</td>\n",
       "    </tr>\n",
       "    <tr>\n",
       "      <th>std</th>\n",
       "      <td>8595.157794</td>\n",
       "    </tr>\n",
       "    <tr>\n",
       "      <th>min</th>\n",
       "      <td>0.000000</td>\n",
       "    </tr>\n",
       "    <tr>\n",
       "      <th>25%</th>\n",
       "      <td>7443.250000</td>\n",
       "    </tr>\n",
       "    <tr>\n",
       "      <th>50%</th>\n",
       "      <td>14886.500000</td>\n",
       "    </tr>\n",
       "    <tr>\n",
       "      <th>75%</th>\n",
       "      <td>22329.750000</td>\n",
       "    </tr>\n",
       "    <tr>\n",
       "      <th>max</th>\n",
       "      <td>29773.000000</td>\n",
       "    </tr>\n",
       "  </tbody>\n",
       "</table>\n",
       "</div>"
      ],
      "text/plain": [
       "                 id\n",
       "count  29774.000000\n",
       "mean   14886.500000\n",
       "std     8595.157794\n",
       "min        0.000000\n",
       "25%     7443.250000\n",
       "50%    14886.500000\n",
       "75%    22329.750000\n",
       "max    29773.000000"
      ]
     },
     "execution_count": 3,
     "metadata": {},
     "output_type": "execute_result"
    }
   ],
   "source": [
    "#Check the data to train\n",
    "df_train.describe()"
   ]
  },
  {
   "cell_type": "code",
   "execution_count": 6,
   "metadata": {},
   "outputs": [
    {
     "data": {
      "text/plain": [
       "(29774, 3)"
      ]
     },
     "execution_count": 6,
     "metadata": {},
     "output_type": "execute_result"
    }
   ],
   "source": [
    "#check the shape of train\n",
    "df_train.shape"
   ]
  },
  {
   "cell_type": "code",
   "execution_count": 4,
   "metadata": {},
   "outputs": [
    {
     "data": {
      "text/plain": [
       "29774"
      ]
     },
     "execution_count": 4,
     "metadata": {},
     "output_type": "execute_result"
    }
   ],
   "source": [
    "#check the length of the train\n",
    "len(df_train)"
   ]
  },
  {
   "cell_type": "code",
   "execution_count": 5,
   "metadata": {},
   "outputs": [],
   "source": [
    "# function to convert the train & test ingredients into the array\n",
    "def convertToArray(arr):\n",
    "    newArr = []\n",
    "    for val in arr.ingredients:\n",
    "        index = ','.join(val)\n",
    "        newArr.append(index)\n",
    "    return newArr"
   ]
  },
  {
   "cell_type": "code",
   "execution_count": 20,
   "metadata": {},
   "outputs": [],
   "source": [
    "#Vectorize \n",
    "from sklearn.feature_extraction.text import CountVectorizer\n",
    "cv = CountVectorizer()"
   ]
  },
  {
   "cell_type": "code",
   "execution_count": 21,
   "metadata": {},
   "outputs": [
    {
     "data": {
      "text/plain": [
       "CountVectorizer(analyzer='word', binary=False, decode_error='strict',\n",
       "        dtype=<class 'numpy.int64'>, encoding='utf-8', input='content',\n",
       "        lowercase=True, max_df=1.0, max_features=None, min_df=1,\n",
       "        ngram_range=(1, 1), preprocessor=None, stop_words=None,\n",
       "        strip_accents=None, token_pattern='(?u)\\\\b\\\\w\\\\w+\\\\b',\n",
       "        tokenizer=None, vocabulary=None)"
      ]
     },
     "execution_count": 21,
     "metadata": {},
     "output_type": "execute_result"
    }
   ],
   "source": [
    "#declare the array of train ingredients\n",
    "arr1 = convertToArray(df_train)\n",
    "cv.fit(arr1)"
   ]
  },
  {
   "cell_type": "code",
   "execution_count": 22,
   "metadata": {},
   "outputs": [],
   "source": [
    "#Vectorize the train data of train ingredients\n",
    "X= cv.transform(arr1).toarray()"
   ]
  },
  {
   "cell_type": "code",
   "execution_count": 23,
   "metadata": {},
   "outputs": [
    {
     "data": {
      "text/plain": [
       "(29774, 2868)"
      ]
     },
     "execution_count": 23,
     "metadata": {},
     "output_type": "execute_result"
    }
   ],
   "source": [
    "X.shape"
   ]
  },
  {
   "cell_type": "code",
   "execution_count": 24,
   "metadata": {},
   "outputs": [],
   "source": [
    "#Vectorize the test data of test ingredients\n",
    "arr2 = convertToArray(df_test)"
   ]
  },
  {
   "cell_type": "code",
   "execution_count": 25,
   "metadata": {},
   "outputs": [],
   "source": [
    "Test_x = cv.transform(arr2).toarray()"
   ]
  },
  {
   "cell_type": "code",
   "execution_count": 69,
   "metadata": {},
   "outputs": [],
   "source": [
    "#Vectorizer the train cuisine\n",
    "cvz = CountVectorizer()\n",
    "cvz.fit(df_train.cuisine)\n",
    "y = cvz.transform(df_train.cuisine).toarray()"
   ]
  },
  {
   "cell_type": "code",
   "execution_count": 70,
   "metadata": {},
   "outputs": [
    {
     "data": {
      "text/plain": [
       "CountVectorizer(analyzer='word', binary=False, decode_error='strict',\n",
       "        dtype=<class 'numpy.int64'>, encoding='utf-8', input='content',\n",
       "        lowercase=True, max_df=1.0, max_features=None, min_df=1,\n",
       "        ngram_range=(1, 1), preprocessor=None, stop_words=None,\n",
       "        strip_accents=None, token_pattern='(?u)\\\\b\\\\w\\\\w+\\\\b',\n",
       "        tokenizer=None, vocabulary=None)"
      ]
     },
     "execution_count": 70,
     "metadata": {},
     "output_type": "execute_result"
    }
   ],
   "source": [
    "v = CountVectorizer()\n",
    "v.fit(df_test)"
   ]
  },
  {
   "cell_type": "code",
   "execution_count": 71,
   "metadata": {},
   "outputs": [
    {
     "data": {
      "text/plain": [
       "['id', 'ingredients']"
      ]
     },
     "execution_count": 71,
     "metadata": {},
     "output_type": "execute_result"
    }
   ],
   "source": [
    "v.get_feature_names()"
   ]
  },
  {
   "cell_type": "code",
   "execution_count": 72,
   "metadata": {},
   "outputs": [
    {
     "data": {
      "text/plain": [
       "(29774, 20)"
      ]
     },
     "execution_count": 72,
     "metadata": {},
     "output_type": "execute_result"
    }
   ],
   "source": [
    "y.shape"
   ]
  },
  {
   "cell_type": "code",
   "execution_count": 73,
   "metadata": {},
   "outputs": [],
   "source": [
    "X_X = v.transform(df_test)"
   ]
  },
  {
   "cell_type": "code",
   "execution_count": 31,
   "metadata": {},
   "outputs": [
    {
     "name": "stdout",
     "output_type": "stream",
     "text": [
      "  (0, 0)\t1\n",
      "  (1, 1)\t1\n"
     ]
    }
   ],
   "source": [
    "print(X_X)"
   ]
  },
  {
   "cell_type": "code",
   "execution_count": 32,
   "metadata": {},
   "outputs": [],
   "source": [
    "a = X_X.toarray()"
   ]
  },
  {
   "cell_type": "code",
   "execution_count": 90,
   "metadata": {},
   "outputs": [],
   "source": [
    "#encoder the labels \n",
    "from sklearn.preprocessing import LabelEncoder"
   ]
  },
  {
   "cell_type": "code",
   "execution_count": 91,
   "metadata": {},
   "outputs": [],
   "source": [
    "enc = LabelEncoder()\n",
    "y1 = enc.fit_transform(df_train.cuisine)"
   ]
  },
  {
   "cell_type": "code",
   "execution_count": 92,
   "metadata": {},
   "outputs": [
    {
     "data": {
      "text/plain": [
       "(29774,)"
      ]
     },
     "execution_count": 92,
     "metadata": {},
     "output_type": "execute_result"
    }
   ],
   "source": [
    "y1.shape"
   ]
  },
  {
   "cell_type": "code",
   "execution_count": 94,
   "metadata": {},
   "outputs": [
    {
     "data": {
      "text/plain": [
       "array(['brazilian', 'british', 'cajun_creole', 'chinese', 'filipino',\n",
       "       'french', 'greek', 'indian', 'irish', 'italian', 'jamaican',\n",
       "       'japanese', 'korean', 'mexican', 'moroccan', 'russian',\n",
       "       'southern_us', 'spanish', 'thai', 'vietnamese'], dtype=object)"
      ]
     },
     "execution_count": 94,
     "metadata": {},
     "output_type": "execute_result"
    }
   ],
   "source": [
    "#check the encoder classes\n",
    "enc.classes_"
   ]
  },
  {
   "cell_type": "code",
   "execution_count": 95,
   "metadata": {},
   "outputs": [],
   "source": [
    "from sklearn.cross_validation import train_test_split\n",
    "X_train, X_test, y_train, y_test = train_test_split(X, y1, test_size=0.2)\n"
   ]
  },
  {
   "cell_type": "code",
   "execution_count": 96,
   "metadata": {},
   "outputs": [],
   "source": [
    "from sklearn.linear_model import LogisticRegression"
   ]
  },
  {
   "cell_type": "code",
   "execution_count": 97,
   "metadata": {},
   "outputs": [
    {
     "data": {
      "text/plain": [
       "LogisticRegression(C=1.0, class_weight=None, dual=False, fit_intercept=True,\n",
       "          intercept_scaling=1, max_iter=100, multi_class='ovr', n_jobs=1,\n",
       "          penalty='l2', random_state=None, solver='liblinear', tol=0.0001,\n",
       "          verbose=0, warm_start=False)"
      ]
     },
     "execution_count": 97,
     "metadata": {},
     "output_type": "execute_result"
    }
   ],
   "source": [
    "log = LogisticRegression()\n",
    "log.fit(X_train, y_train)"
   ]
  },
  {
   "cell_type": "code",
   "execution_count": 74,
   "metadata": {},
   "outputs": [],
   "source": [
    "from sklearn.model_selection import train_test_split\n",
    "import numpy as np\n",
    "X_train, X_test, y_train, y_test = train_test_split(X, y, test_size=0.25)"
   ]
  },
  {
   "cell_type": "code",
   "execution_count": 41,
   "metadata": {},
   "outputs": [],
   "source": [
    "y_pred_test = clf.predict(Test_x)"
   ]
  },
  {
   "cell_type": "code",
   "execution_count": 42,
   "metadata": {},
   "outputs": [
    {
     "data": {
      "text/plain": [
       "7444"
      ]
     },
     "execution_count": 42,
     "metadata": {},
     "output_type": "execute_result"
    }
   ],
   "source": [
    "len(y_pred)\n",
    "#len(y_pred_test)"
   ]
  },
  {
   "cell_type": "code",
   "execution_count": 98,
   "metadata": {},
   "outputs": [
    {
     "data": {
      "text/plain": [
       "array([[0, 0, 0, ..., 0, 0, 0],\n",
       "       [0, 0, 0, ..., 0, 0, 0],\n",
       "       [0, 0, 0, ..., 0, 0, 0],\n",
       "       ...,\n",
       "       [0, 0, 0, ..., 0, 0, 0],\n",
       "       [0, 0, 0, ..., 0, 0, 0],\n",
       "       [0, 0, 0, ..., 0, 0, 0]], dtype=int64)"
      ]
     },
     "execution_count": 98,
     "metadata": {},
     "output_type": "execute_result"
    }
   ],
   "source": [
    "X_train"
   ]
  },
  {
   "cell_type": "code",
   "execution_count": 106,
   "metadata": {},
   "outputs": [],
   "source": [
    "from keras.models import Sequential\n",
    "from keras.layers import Dense\n",
    "\n",
    "#declare the train \n",
    "train = X_train.shape[1]\n",
    "model = models.Sequential()\n",
    "model.add(layers.Dense(64, activation='relu', input_shape=(X_train.shape[1],)))\n",
    "model.add(layers.Dense(64, activation='relu'))\n",
    "model.add(layers.Dense(20, activation='softmax'))"
   ]
  },
  {
   "cell_type": "code",
   "execution_count": 107,
   "metadata": {},
   "outputs": [],
   "source": [
    "#compile the model\n",
    "model.compile(optimizer='rmsprop',\n",
    "              loss='sparse_categorical_crossentropy',\n",
    "              metrics=['accuracy'])"
   ]
  },
  {
   "cell_type": "code",
   "execution_count": 108,
   "metadata": {},
   "outputs": [
    {
     "name": "stdout",
     "output_type": "stream",
     "text": [
      "Epoch 1/20\n",
      "23819/23819 [==============================] - 3s 136us/step - loss: 1.5021 - acc: 0.6031\n",
      "Epoch 2/20\n",
      "23819/23819 [==============================] - 2s 102us/step - loss: 0.8657 - acc: 0.7526\n",
      "Epoch 3/20\n",
      "23819/23819 [==============================] - 2s 91us/step - loss: 0.7295 - acc: 0.7868\n",
      "Epoch 4/20\n",
      "23819/23819 [==============================] - 2s 74us/step - loss: 0.6554 - acc: 0.8062\n",
      "Epoch 5/20\n",
      "23819/23819 [==============================] - 2s 74us/step - loss: 0.6070 - acc: 0.8198\n",
      "Epoch 6/20\n",
      "23819/23819 [==============================] - 2s 74us/step - loss: 0.5718 - acc: 0.8288\n",
      "Epoch 7/20\n",
      "23819/23819 [==============================] - 2s 78us/step - loss: 0.5421 - acc: 0.8362\n",
      "Epoch 8/20\n",
      "23819/23819 [==============================] - 2s 76us/step - loss: 0.5156 - acc: 0.8435\n",
      "Epoch 9/20\n",
      "23819/23819 [==============================] - 2s 79us/step - loss: 0.4928 - acc: 0.8514\n",
      "Epoch 10/20\n",
      "23819/23819 [==============================] - 2s 77us/step - loss: 0.4722 - acc: 0.8571\n",
      "Epoch 11/20\n",
      "23819/23819 [==============================] - 2s 77us/step - loss: 0.4529 - acc: 0.8619\n",
      "Epoch 12/20\n",
      "23819/23819 [==============================] - 2s 77us/step - loss: 0.4352 - acc: 0.8672\n",
      "Epoch 13/20\n",
      "23819/23819 [==============================] - 2s 77us/step - loss: 0.4176 - acc: 0.8722\n",
      "Epoch 14/20\n",
      "23819/23819 [==============================] - 2s 76us/step - loss: 0.4027 - acc: 0.8779\n",
      "Epoch 15/20\n",
      "23819/23819 [==============================] - 2s 76us/step - loss: 0.3872 - acc: 0.8827\n",
      "Epoch 16/20\n",
      "23819/23819 [==============================] - 2s 76us/step - loss: 0.3722 - acc: 0.8877\n",
      "Epoch 17/20\n",
      "23819/23819 [==============================] - 2s 77us/step - loss: 0.3575 - acc: 0.8927\n",
      "Epoch 18/20\n",
      "23819/23819 [==============================] - 2s 79us/step - loss: 0.3432 - acc: 0.8958\n",
      "Epoch 19/20\n",
      "23819/23819 [==============================] - 2s 100us/step - loss: 0.3304 - acc: 0.8989\n",
      "Epoch 20/20\n",
      "23819/23819 [==============================] - 2s 82us/step - loss: 0.3167 - acc: 0.9031\n"
     ]
    }
   ],
   "source": [
    "history = model.fit(X_train, y_train, epochs=20, batch_size=100)"
   ]
  },
  {
   "cell_type": "code",
   "execution_count": null,
   "metadata": {},
   "outputs": [],
   "source": [
    "from sklearn.metrics import confusion_matrix, classification_report\n",
    "cm = confusion_matrix(y_test, y_pred)\n",
    "cr = classification_report(y_test, y_pred)"
   ]
  },
  {
   "cell_type": "code",
   "execution_count": 28,
   "metadata": {},
   "outputs": [
    {
     "name": "stdout",
     "output_type": "stream",
     "text": [
      "              precision    recall  f1-score   support\n",
      "\n",
      "   brazilian       0.73      0.40      0.52        82\n",
      "     british       0.32      0.25      0.28       154\n",
      "cajun_creole       0.56      0.74      0.64       279\n",
      "     chinese       0.72      0.90      0.80       526\n",
      "    filipino       0.67      0.38      0.49       134\n",
      "      french       0.51      0.55      0.53       498\n",
      "       greek       0.62      0.58      0.60       214\n",
      "      indian       0.86      0.88      0.87       571\n",
      "       irish       0.61      0.37      0.46        97\n",
      "     italian       0.81      0.81      0.81      1490\n",
      "    jamaican       0.74      0.53      0.62       103\n",
      "    japanese       0.86      0.60      0.71       246\n",
      "      korean       0.82      0.59      0.69       166\n",
      "     mexican       0.88      0.88      0.88      1155\n",
      "    moroccan       0.70      0.72      0.71       152\n",
      "     russian       0.59      0.26      0.36        92\n",
      " southern_us       0.58      0.72      0.64       847\n",
      "     spanish       0.62      0.46      0.53       202\n",
      "        thai       0.70      0.80      0.75       280\n",
      "  vietnamese       0.73      0.42      0.53       156\n",
      "\n",
      " avg / total       0.73      0.72      0.72      7444\n",
      "\n"
     ]
    }
   ],
   "source": [
    "print(cr)"
   ]
  },
  {
   "cell_type": "code",
   "execution_count": 44,
   "metadata": {},
   "outputs": [
    {
     "data": {
      "text/plain": [
       "LogisticRegression(C=1.0, class_weight=None, dual=False, fit_intercept=True,\n",
       "          intercept_scaling=1, max_iter=100, multi_class='ovr', n_jobs=1,\n",
       "          penalty='l2', random_state=None, solver='liblinear', tol=0.0001,\n",
       "          verbose=0, warm_start=False)"
      ]
     },
     "execution_count": 44,
     "metadata": {},
     "output_type": "execute_result"
    }
   ],
   "source": [
    "from sklearn.linear_model import LogisticRegression\n",
    "log = LogisticRegression()\n",
    "log.fit(X_train, y_train)"
   ]
  },
  {
   "cell_type": "code",
   "execution_count": 45,
   "metadata": {},
   "outputs": [
    {
     "data": {
      "text/plain": [
       "0.7792853304674906"
      ]
     },
     "execution_count": 45,
     "metadata": {},
     "output_type": "execute_result"
    }
   ],
   "source": [
    "log.score(X_test, y_test)"
   ]
  },
  {
   "cell_type": "code",
   "execution_count": 62,
   "metadata": {},
   "outputs": [
    {
     "data": {
      "text/plain": [
       "(22330,)"
      ]
     },
     "execution_count": 62,
     "metadata": {},
     "output_type": "execute_result"
    }
   ],
   "source": [
    "y_train.shape"
   ]
  },
  {
   "cell_type": "code",
   "execution_count": 109,
   "metadata": {},
   "outputs": [],
   "source": [
    "from sklearn.metrics import confusion_matrix"
   ]
  },
  {
   "cell_type": "code",
   "execution_count": 111,
   "metadata": {},
   "outputs": [],
   "source": [
    "cm = confusion_matrix(y_test, log.predict(X_test))"
   ]
  },
  {
   "cell_type": "code",
   "execution_count": 136,
   "metadata": {},
   "outputs": [],
   "source": [
    "#function to convert the prediction into the array\n",
    "def convert_the_prediction(arr):\n",
    "    p = []\n",
    "    for index in arr:\n",
    "        val = index\n",
    "        maxValue = np.argmax(index)\n",
    "        result = list(map(lambda x : x == index[maxValue], val))\n",
    "        p.append(cvz.inverse_transform(result)[0][0])\n",
    "    return p"
   ]
  },
  {
   "cell_type": "code",
   "execution_count": 137,
   "metadata": {},
   "outputs": [],
   "source": [
    "#let predict the test result\n",
    "pred = model.predict(Test_x)"
   ]
  },
  {
   "cell_type": "code",
   "execution_count": 138,
   "metadata": {},
   "outputs": [],
   "source": [
    "val_result = convert_the_prediction(pred)"
   ]
  },
  {
   "cell_type": "code",
   "execution_count": 141,
   "metadata": {},
   "outputs": [
    {
     "name": "stdout",
     "output_type": "stream",
     "text": [
      "['korean', 'italian', 'italian', 'filipino', 'italian', 'cajun_creole', 'french', 'thai', 'vietnamese', 'southern_us', 'korean', 'cajun_creole', 'french', 'indian', 'british', 'french', 'vietnamese', 'italian', 'italian', 'french', 'italian', 'chinese', 'southern_us', 'japanese', 'russian', 'spanish', 'japanese', 'indian', 'greek', 'filipino', 'french', 'chinese', 'italian', 'french', 'italian', 'japanese', 'indian', 'southern_us', 'italian', 'mexican', 'mexican', 'japanese', 'thai', 'southern_us', 'thai', 'greek', 'italian', 'jamaican', 'french', 'french', 'mexican', 'thai', 'italian', 'mexican', 'chinese', 'chinese', 'italian', 'southern_us', 'italian', 'mexican', 'chinese', 'chinese', 'russian', 'greek', 'mexican', 'chinese', 'mexican', 'italian', 'italian', 'indian', 'greek', 'italian', 'southern_us', 'french', 'british', 'british', 'chinese', 'french', 'italian', 'italian', 'indian', 'irish', 'italian', 'indian', 'japanese', 'cajun_creole', 'southern_us', 'french', 'indian', 'thai', 'thai', 'indian', 'chinese', 'italian', 'japanese', 'italian', 'spanish', 'spanish', 'brazilian', 'mexican', 'italian', 'italian', 'italian', 'chinese', 'greek', 'cajun_creole', 'greek', 'italian', 'chinese', 'indian', 'mexican', 'french', 'chinese', 'italian', 'french', 'brazilian', 'korean', 'vietnamese', 'italian', 'indian', 'greek', 'italian', 'thai', 'moroccan', 'chinese', 'korean', 'chinese', 'italian', 'indian', 'thai', 'cajun_creole', 'mexican', 'vietnamese', 'southern_us', 'indian', 'mexican', 'italian', 'southern_us', 'indian', 'italian', 'thai', 'chinese', 'japanese', 'chinese', 'moroccan', 'british', 'indian', 'mexican', 'french', 'thai', 'mexican', 'italian', 'mexican', 'mexican', 'southern_us', 'indian', 'thai', 'italian', 'italian', 'cajun_creole', 'italian', 'italian', 'italian', 'italian', 'french', 'chinese', 'vietnamese', 'thai', 'mexican', 'italian', 'italian', 'cajun_creole', 'mexican', 'thai', 'chinese', 'italian', 'italian', 'southern_us', 'moroccan', 'italian', 'italian', 'italian', 'chinese', 'italian', 'cajun_creole', 'southern_us', 'indian', 'italian', 'thai', 'greek', 'spanish', 'italian', 'mexican', 'jamaican', 'french', 'mexican', 'southern_us', 'cajun_creole', 'french', 'italian', 'japanese', 'russian', 'italian', 'southern_us', 'italian', 'indian', 'greek', 'mexican', 'mexican', 'italian', 'italian', 'french', 'southern_us', 'mexican', 'cajun_creole', 'italian', 'mexican', 'mexican', 'mexican', 'french', 'southern_us', 'chinese', 'southern_us', 'thai', 'italian', 'korean', 'chinese', 'brazilian', 'french', 'chinese', 'southern_us', 'french', 'korean', 'mexican', 'mexican', 'mexican', 'indian', 'brazilian', 'cajun_creole', 'italian', 'italian', 'korean', 'indian', 'italian', 'southern_us', 'japanese', 'mexican', 'jamaican', 'korean', 'vietnamese', 'french', 'brazilian', 'southern_us', 'southern_us', 'italian', 'mexican', 'mexican', 'filipino', 'mexican', 'japanese', 'mexican', 'irish', 'mexican', 'southern_us', 'spanish', 'italian', 'italian', 'chinese', 'southern_us', 'italian', 'japanese', 'indian', 'italian', 'italian', 'chinese', 'chinese', 'thai', 'indian', 'chinese', 'vietnamese', 'korean', 'thai', 'chinese', 'italian', 'jamaican', 'thai', 'southern_us', 'jamaican', 'mexican', 'southern_us', 'italian', 'cajun_creole', 'jamaican', 'southern_us', 'thai', 'greek', 'mexican', 'cajun_creole', 'mexican', 'italian', 'cajun_creole', 'italian', 'mexican', 'japanese', 'mexican', 'italian', 'southern_us', 'cajun_creole', 'southern_us', 'indian', 'japanese', 'southern_us', 'french', 'brazilian', 'british', 'moroccan', 'vietnamese', 'chinese', 'italian', 'filipino', 'mexican', 'italian', 'korean', 'french', 'italian', 'mexican', 'french', 'italian', 'italian', 'italian', 'mexican', 'japanese', 'chinese', 'italian', 'indian', 'moroccan', 'french', 'indian', 'filipino', 'filipino', 'chinese', 'chinese', 'french', 'italian', 'mexican', 'italian', 'italian', 'spanish', 'italian', 'italian', 'mexican', 'french', 'cajun_creole', 'cajun_creole', 'mexican', 'chinese', 'cajun_creole', 'greek', 'russian', 'italian', 'chinese', 'italian', 'spanish', 'mexican', 'cajun_creole', 'italian', 'cajun_creole', 'italian', 'italian', 'french', 'mexican', 'italian', 'vietnamese', 'italian', 'mexican', 'mexican', 'jamaican', 'italian', 'irish', 'thai', 'british', 'southern_us', 'brazilian', 'indian', 'italian', 'mexican', 'chinese', 'filipino', 'southern_us', 'mexican', 'southern_us', 'italian', 'italian', 'greek', 'korean', 'chinese', 'indian', 'mexican', 'italian', 'mexican', 'mexican', 'italian', 'italian', 'irish', 'chinese', 'jamaican', 'indian', 'indian', 'chinese', 'greek', 'italian', 'italian', 'mexican', 'russian', 'mexican', 'mexican', 'indian', 'french', 'italian', 'italian', 'mexican', 'italian', 'southern_us', 'french', 'cajun_creole', 'italian', 'italian', 'french', 'italian', 'brazilian', 'irish', 'mexican', 'southern_us', 'cajun_creole', 'greek', 'italian', 'italian', 'southern_us', 'greek', 'southern_us', 'italian', 'italian', 'mexican', 'southern_us', 'japanese', 'mexican', 'cajun_creole', 'chinese', 'japanese', 'italian', 'southern_us', 'french', 'chinese', 'french', 'italian', 'italian', 'french', 'italian', 'french', 'mexican', 'southern_us', 'french', 'mexican', 'southern_us', 'italian', 'mexican', 'japanese', 'italian', 'mexican', 'spanish', 'chinese', 'chinese', 'southern_us', 'italian', 'southern_us', 'mexican', 'mexican', 'indian', 'chinese', 'southern_us', 'french', 'southern_us', 'indian', 'jamaican', 'british', 'french', 'italian', 'british', 'italian', 'italian', 'italian', 'spanish', 'french', 'japanese', 'vietnamese', 'japanese', 'french', 'italian', 'mexican', 'italian', 'spanish', 'mexican', 'cajun_creole', 'chinese', 'italian', 'moroccan', 'french', 'italian', 'italian', 'indian', 'italian', 'southern_us', 'southern_us', 'french', 'french', 'japanese', 'indian', 'jamaican', 'japanese', 'chinese', 'mexican', 'italian', 'southern_us', 'cajun_creole', 'southern_us', 'chinese', 'southern_us', 'indian', 'mexican', 'italian', 'mexican', 'chinese', 'greek', 'brazilian', 'indian', 'vietnamese', 'mexican', 'mexican', 'french', 'indian', 'italian', 'japanese', 'italian', 'mexican', 'greek', 'southern_us', 'italian', 'mexican', 'mexican', 'french', 'indian', 'indian', 'french', 'british', 'indian', 'italian', 'korean', 'cajun_creole', 'moroccan', 'italian', 'indian', 'italian', 'italian', 'southern_us', 'british', 'mexican', 'italian', 'mexican', 'thai', 'southern_us', 'cajun_creole', 'mexican', 'southern_us', 'moroccan', 'mexican', 'cajun_creole', 'korean', 'french', 'southern_us', 'southern_us', 'mexican', 'indian', 'mexican', 'italian', 'chinese', 'italian', 'cajun_creole', 'vietnamese', 'thai', 'italian', 'italian', 'southern_us', 'indian', 'thai', 'irish', 'mexican', 'french', 'mexican', 'mexican', 'mexican', 'indian', 'indian', 'brazilian', 'southern_us', 'mexican', 'korean', 'chinese', 'italian', 'filipino', 'indian', 'french', 'indian', 'italian', 'mexican', 'italian', 'greek', 'moroccan', 'irish', 'italian', 'french', 'italian', 'vietnamese', 'chinese', 'japanese', 'indian', 'southern_us', 'southern_us', 'mexican', 'mexican', 'chinese', 'southern_us', 'thai', 'southern_us', 'italian', 'italian', 'french', 'southern_us', 'moroccan', 'mexican', 'filipino', 'mexican', 'french', 'greek', 'mexican', 'italian', 'southern_us', 'british', 'cajun_creole', 'korean', 'italian', 'cajun_creole', 'mexican', 'chinese', 'italian', 'italian', 'italian', 'japanese', 'moroccan', 'mexican', 'indian', 'japanese', 'indian', 'italian', 'korean', 'southern_us', 'southern_us', 'french', 'chinese', 'italian', 'mexican', 'british', 'italian', 'indian', 'mexican', 'mexican', 'southern_us', 'french', 'mexican', 'italian', 'italian', 'southern_us', 'indian', 'filipino', 'thai', 'italian', 'mexican', 'indian', 'chinese', 'italian', 'thai', 'french', 'thai', 'brazilian', 'italian', 'italian', 'italian', 'mexican', 'jamaican', 'french', 'chinese', 'southern_us', 'italian', 'southern_us', 'japanese', 'greek', 'southern_us', 'irish', 'moroccan', 'chinese', 'french', 'greek', 'mexican', 'spanish', 'spanish', 'indian', 'mexican', 'italian', 'chinese', 'southern_us', 'italian', 'french', 'indian', 'indian', 'greek', 'chinese', 'japanese', 'italian', 'moroccan', 'italian', 'mexican', 'indian', 'mexican', 'moroccan', 'greek', 'italian', 'mexican', 'french', 'french', 'moroccan', 'mexican', 'chinese', 'mexican', 'british', 'indian', 'french', 'mexican', 'italian', 'chinese', 'french', 'italian', 'southern_us', 'mexican', 'filipino', 'korean', 'italian', 'indian', 'russian', 'japanese', 'cajun_creole', 'british', 'italian', 'thai', 'mexican', 'thai', 'southern_us', 'southern_us', 'southern_us', 'cajun_creole', 'greek', 'japanese', 'korean', 'mexican', 'filipino', 'greek', 'thai', 'italian', 'italian', 'mexican', 'mexican', 'italian', 'southern_us', 'french', 'mexican', 'irish', 'moroccan', 'italian', 'southern_us', 'indian', 'southern_us', 'indian', 'southern_us', 'japanese', 'southern_us', 'irish', 'indian', 'italian', 'indian', 'mexican', 'chinese', 'greek', 'mexican', 'british', 'chinese', 'indian', 'italian', 'mexican', 'italian', 'thai', 'greek', 'mexican', 'southern_us', 'mexican', 'italian', 'moroccan', 'chinese', 'italian', 'greek', 'southern_us', 'cajun_creole', 'mexican', 'mexican', 'italian', 'italian', 'greek', 'mexican', 'mexican', 'french', 'french', 'japanese', 'southern_us', 'mexican', 'mexican', 'italian', 'southern_us', 'french', 'italian', 'spanish', 'indian', 'italian', 'southern_us', 'southern_us', 'french', 'southern_us', 'thai', 'italian', 'italian', 'mexican', 'italian', 'chinese', 'mexican', 'british', 'mexican', 'southern_us', 'italian', 'indian', 'moroccan', 'southern_us', 'mexican', 'italian', 'southern_us', 'southern_us', 'filipino', 'italian', 'cajun_creole', 'indian', 'italian', 'chinese', 'cajun_creole', 'italian', 'mexican', 'mexican', 'southern_us', 'vietnamese', 'southern_us', 'cajun_creole', 'indian', 'southern_us', 'italian', 'southern_us', 'mexican', 'filipino', 'southern_us', 'vietnamese', 'japanese', 'thai', 'thai', 'korean', 'southern_us', 'moroccan', 'vietnamese', 'chinese', 'italian', 'italian', 'indian', 'southern_us', 'spanish', 'southern_us', 'italian', 'southern_us', 'italian', 'mexican', 'indian', 'italian', 'italian', 'japanese', 'japanese', 'thai', 'filipino', 'italian', 'italian', 'southern_us', 'italian', 'chinese', 'spanish', 'thai', 'italian', 'southern_us', 'greek', 'cajun_creole', 'southern_us', 'chinese', 'spanish', 'italian', 'chinese', 'italian', 'southern_us', 'thai', 'mexican', 'italian', 'greek', 'cajun_creole', 'italian', 'mexican', 'mexican', 'indian', 'indian', 'mexican', 'southern_us', 'mexican', 'indian', 'italian', 'japanese', 'filipino', 'italian', 'mexican', 'thai', 'filipino', 'french', 'french', 'mexican', 'french', 'chinese', 'indian', 'mexican', 'italian', 'indian', 'french', 'southern_us', 'italian', 'italian', 'indian', 'italian', 'french', 'southern_us', 'cajun_creole', 'chinese', 'cajun_creole', 'mexican', 'southern_us', 'italian', 'french', 'french', 'southern_us', 'korean', 'indian', 'italian', 'cajun_creole', 'mexican', 'southern_us', 'cajun_creole', 'italian', 'chinese', 'italian', 'vietnamese', 'mexican', 'southern_us', 'mexican', 'southern_us', 'chinese', 'southern_us', 'mexican', 'mexican', 'spanish', 'chinese', 'indian', 'chinese', 'mexican', 'mexican', 'italian', 'indian', 'italian', 'indian', 'southern_us', 'british', 'southern_us', 'mexican', 'spanish', 'cajun_creole', 'japanese', 'italian', 'mexican', 'british', 'thai', 'indian', 'italian', 'italian', 'mexican', 'italian', 'mexican', 'irish', 'french', 'french', 'british', 'southern_us', 'southern_us', 'southern_us', 'british', 'indian', 'chinese', 'italian', 'italian', 'italian', 'moroccan', 'indian', 'spanish', 'mexican', 'mexican', 'italian', 'filipino', 'spanish', 'italian', 'thai', 'indian', 'mexican', 'japanese', 'southern_us', 'italian', 'indian', 'italian', 'chinese', 'southern_us', 'italian', 'japanese', 'mexican', 'mexican', 'cajun_creole', 'mexican', 'mexican', 'italian', 'italian', 'southern_us', 'japanese', 'chinese', 'cajun_creole', 'chinese', 'mexican', 'italian', 'cajun_creole', 'brazilian', 'italian', 'cajun_creole', 'indian', 'southern_us', 'mexican', 'chinese', 'thai', 'jamaican', 'italian', 'brazilian', 'chinese', 'british', 'french', 'southern_us', 'mexican', 'moroccan', 'french', 'japanese', 'chinese', 'brazilian', 'chinese', 'chinese', 'mexican', 'italian', 'moroccan', 'southern_us', 'mexican', 'indian', 'mexican', 'italian', 'southern_us', 'moroccan', 'southern_us', 'russian', 'thai', 'indian', 'italian', 'thai', 'southern_us', 'russian', 'italian', 'chinese', 'french', 'indian', 'irish', 'japanese', 'french', 'italian', 'russian', 'french', 'southern_us', 'italian', 'mexican', 'mexican', 'italian', 'southern_us', 'moroccan', 'thai', 'mexican', 'mexican', 'italian', 'mexican', 'italian', 'cajun_creole', 'cajun_creole', 'chinese', 'spanish', 'irish', 'spanish', 'southern_us', 'thai', 'brazilian', 'southern_us', 'indian', 'mexican', 'mexican', 'southern_us', 'mexican', 'indian', 'mexican', 'italian', 'jamaican', 'indian', 'italian', 'greek', 'french', 'mexican', 'chinese', 'italian', 'thai', 'mexican', 'italian', 'french', 'italian', 'italian', 'mexican', 'southern_us', 'southern_us', 'mexican', 'vietnamese', 'french', 'southern_us', 'mexican', 'mexican', 'southern_us', 'indian', 'southern_us', 'chinese', 'mexican', 'italian', 'greek', 'chinese', 'italian', 'southern_us', 'spanish', 'southern_us', 'mexican', 'mexican', 'british', 'french', 'mexican', 'italian', 'british', 'mexican', 'chinese', 'cajun_creole', 'french', 'moroccan', 'russian', 'irish', 'mexican', 'indian', 'mexican', 'japanese', 'italian', 'mexican', 'thai', 'mexican', 'italian', 'cajun_creole', 'italian', 'korean', 'mexican', 'british', 'russian', 'italian', 'mexican', 'mexican', 'mexican', 'italian', 'southern_us', 'italian', 'southern_us', 'italian', 'russian', 'french', 'moroccan', 'indian', 'mexican', 'southern_us', 'italian', 'brazilian', 'thai', 'mexican', 'italian', 'italian', 'korean', 'french', 'french', 'italian', 'southern_us', 'southern_us', 'japanese', 'mexican', 'italian', 'italian', 'filipino', 'italian', 'moroccan', 'moroccan', 'italian', 'italian', 'thai', 'southern_us', 'italian', 'cajun_creole', 'vietnamese', 'thai', 'southern_us', 'mexican', 'cajun_creole', 'mexican', 'southern_us', 'french', 'italian', 'italian', 'mexican', 'jamaican', 'irish', 'british', 'french', 'vietnamese', 'indian', 'french', 'mexican', 'british', 'mexican', 'southern_us', 'italian', 'italian', 'british', 'chinese', 'italian', 'mexican', 'italian', 'thai', 'vietnamese', 'mexican', 'jamaican', 'southern_us', 'chinese', 'southern_us', 'korean', 'italian', 'italian', 'italian', 'irish', 'brazilian', 'italian', 'mexican', 'southern_us', 'japanese', 'moroccan', 'mexican', 'mexican', 'korean', 'italian', 'mexican', 'mexican', 'french', 'italian', 'italian', 'cajun_creole', 'italian', 'mexican', 'mexican', 'mexican', 'italian', 'indian', 'mexican', 'italian', 'southern_us', 'japanese', 'mexican', 'filipino', 'italian', 'italian', 'italian', 'mexican', 'mexican', 'japanese', 'italian', 'filipino', 'italian', 'mexican', 'southern_us', 'italian', 'indian', 'southern_us', 'thai', 'greek', 'mexican', 'indian', 'vietnamese', 'southern_us', 'italian', 'southern_us', 'french', 'southern_us', 'french', 'chinese', 'italian', 'mexican', 'spanish', 'chinese', 'brazilian', 'spanish', 'thai', 'mexican', 'filipino', 'italian', 'cajun_creole', 'southern_us', 'british', 'indian', 'mexican', 'southern_us', 'mexican', 'indian', 'moroccan', 'indian', 'french', 'korean', 'moroccan', 'irish', 'italian', 'jamaican', 'italian', 'french', 'brazilian', 'irish', 'cajun_creole', 'italian', 'italian', 'italian', 'italian', 'french', 'filipino', 'french', 'italian', 'british', 'spanish', 'southern_us', 'indian', 'indian', 'mexican', 'mexican', 'southern_us', 'italian', 'indian', 'italian', 'mexican', 'cajun_creole', 'russian', 'italian', 'southern_us', 'italian', 'mexican', 'chinese', 'italian', 'italian', 'italian', 'french', 'chinese', 'italian', 'italian', 'spanish', 'british', 'french', 'italian', 'indian', 'italian', 'french', 'thai', 'chinese', 'british', 'italian', 'mexican', 'spanish', 'southern_us', 'british', 'thai', 'mexican', 'japanese', 'mexican', 'french', 'thai', 'brazilian', 'mexican', 'chinese', 'korean', 'southern_us', 'mexican', 'moroccan', 'italian', 'japanese', 'indian', 'mexican', 'cajun_creole', 'filipino', 'chinese', 'southern_us', 'irish', 'jamaican', 'thai', 'italian', 'southern_us', 'italian', 'italian', 'mexican', 'russian', 'japanese', 'italian', 'moroccan', 'jamaican', 'british', 'brazilian', 'italian', 'spanish', 'french', 'italian', 'moroccan', 'irish', 'greek', 'chinese', 'southern_us', 'southern_us', 'mexican', 'indian', 'cajun_creole', 'mexican', 'italian', 'french', 'mexican', 'italian', 'french', 'jamaican', 'thai', 'brazilian', 'greek', 'italian', 'indian', 'italian', 'brazilian', 'southern_us', 'thai', 'mexican', 'italian', 'mexican', 'italian', 'southern_us', 'indian', 'italian', 'southern_us', 'southern_us', 'italian', 'mexican', 'mexican', 'chinese', 'mexican', 'mexican', 'mexican', 'cajun_creole', 'mexican', 'chinese', 'indian', 'filipino', 'brazilian', 'thai', 'chinese', 'greek', 'italian', 'mexican', 'italian', 'japanese', 'mexican', 'italian', 'thai', 'thai', 'jamaican', 'italian', 'french', 'italian', 'southern_us', 'italian', 'italian', 'mexican', 'irish', 'cajun_creole', 'spanish', 'mexican', 'indian', 'italian', 'italian', 'french', 'mexican', 'italian', 'brazilian', 'mexican', 'chinese', 'greek', 'southern_us', 'italian', 'southern_us', 'chinese', 'japanese', 'italian', 'thai', 'thai', 'italian', 'cajun_creole', 'japanese', 'indian', 'mexican', 'korean', 'indian', 'mexican', 'korean', 'italian', 'southern_us', 'japanese', 'southern_us', 'mexican', 'southern_us', 'italian', 'cajun_creole', 'mexican', 'italian', 'mexican', 'mexican', 'italian', 'thai', 'italian', 'italian', 'italian', 'italian', 'thai', 'chinese', 'italian', 'indian', 'greek', 'chinese', 'french', 'indian', 'korean', 'italian', 'italian', 'mexican', 'indian', 'italian', 'thai', 'french', 'korean', 'greek', 'jamaican', 'french', 'french', 'italian', 'southern_us', 'thai', 'french', 'italian', 'thai', 'chinese', 'french', 'italian', 'cajun_creole', 'mexican', 'italian', 'japanese', 'italian', 'chinese', 'spanish', 'italian', 'vietnamese', 'mexican', 'italian', 'french', 'mexican', 'mexican', 'thai', 'italian', 'southern_us', 'chinese', 'italian', 'italian', 'indian', 'british', 'chinese', 'chinese', 'mexican', 'russian', 'french', 'italian', 'mexican', 'irish', 'french', 'spanish', 'italian', 'italian', 'cajun_creole', 'italian', 'cajun_creole', 'mexican', 'mexican', 'italian', 'korean', 'cajun_creole', 'italian', 'southern_us', 'irish', 'brazilian', 'spanish', 'indian', 'southern_us', 'indian', 'chinese', 'irish', 'mexican', 'cajun_creole', 'thai', 'indian', 'italian', 'southern_us', 'southern_us', 'italian', 'spanish', 'mexican', 'cajun_creole', 'mexican', 'chinese', 'french', 'irish', 'french', 'italian', 'french', 'southern_us', 'cajun_creole', 'italian', 'italian', 'southern_us', 'chinese', 'spanish', 'mexican', 'southern_us', 'cajun_creole', 'italian', 'japanese', 'indian', 'thai', 'french', 'french', 'italian', 'greek', 'mexican', 'southern_us', 'cajun_creole', 'mexican', 'cajun_creole', 'mexican', 'brazilian', 'mexican', 'mexican', 'indian', 'korean', 'spanish', 'british', 'jamaican', 'chinese', 'indian', 'southern_us', 'moroccan', 'thai', 'thai', 'mexican', 'japanese', 'french', 'italian', 'italian', 'italian', 'mexican', 'mexican', 'cajun_creole', 'southern_us', 'french', 'mexican', 'spanish', 'southern_us', 'italian', 'italian', 'spanish', 'italian', 'irish', 'southern_us', 'mexican', 'cajun_creole', 'mexican', 'cajun_creole', 'cajun_creole', 'southern_us', 'vietnamese', 'mexican', 'italian', 'italian', 'irish', 'french', 'italian', 'mexican', 'chinese', 'italian', 'southern_us', 'southern_us', 'french', 'mexican', 'mexican', 'chinese', 'greek', 'mexican', 'indian', 'indian', 'indian', 'moroccan', 'indian', 'thai', 'filipino', 'cajun_creole', 'mexican', 'russian', 'southern_us', 'mexican', 'russian', 'southern_us', 'mexican', 'indian', 'southern_us', 'mexican', 'italian', 'indian', 'thai', 'moroccan', 'italian', 'italian', 'mexican', 'mexican', 'italian', 'british', 'irish', 'mexican', 'southern_us', 'korean', 'irish', 'vietnamese', 'italian', 'southern_us', 'french', 'korean', 'indian', 'southern_us', 'italian', 'french', 'mexican', 'greek', 'british', 'cajun_creole', 'italian', 'italian', 'chinese', 'southern_us', 'thai', 'french', 'thai', 'southern_us', 'italian', 'italian', 'indian', 'italian', 'british', 'italian', 'indian', 'korean', 'italian', 'italian', 'cajun_creole', 'italian', 'filipino', 'italian', 'italian', 'italian', 'japanese', 'chinese', 'italian', 'thai', 'italian', 'southern_us', 'mexican', 'southern_us', 'indian', 'japanese', 'moroccan', 'italian', 'italian', 'thai', 'southern_us', 'french', 'mexican', 'cajun_creole', 'mexican', 'chinese', 'italian', 'italian', 'mexican', 'italian', 'mexican', 'italian', 'greek', 'cajun_creole', 'thai', 'thai', 'southern_us', 'french', 'spanish', 'japanese', 'mexican', 'brazilian', 'italian', 'mexican', 'southern_us', 'indian', 'thai', 'french', 'japanese', 'italian', 'mexican', 'cajun_creole', 'mexican', 'mexican', 'mexican', 'brazilian', 'indian', 'mexican', 'chinese', 'thai', 'mexican', 'french', 'cajun_creole', 'indian', 'southern_us', 'chinese', 'mexican', 'chinese', 'mexican', 'french', 'italian', 'cajun_creole', 'italian', 'chinese', 'chinese', 'chinese', 'southern_us', 'italian', 'mexican', 'japanese', 'italian', 'indian', 'irish', 'vietnamese', 'southern_us', 'southern_us', 'italian', 'southern_us', 'mexican', 'southern_us', 'italian', 'french', 'japanese', 'cajun_creole', 'italian', 'thai', 'italian', 'southern_us', 'mexican', 'indian', 'italian', 'irish', 'british', 'indian', 'chinese', 'mexican', 'mexican', 'brazilian', 'thai', 'french', 'italian', 'russian', 'italian', 'indian', 'cajun_creole', 'french', 'italian', 'mexican', 'thai', 'southern_us', 'italian', 'italian', 'japanese', 'indian', 'british', 'italian', 'southern_us', 'mexican', 'italian', 'british', 'indian', 'thai', 'southern_us', 'southern_us', 'italian', 'italian', 'italian', 'southern_us', 'mexican', 'mexican', 'japanese', 'chinese', 'mexican', 'thai', 'filipino', 'southern_us', 'mexican', 'indian', 'japanese', 'italian', 'indian', 'british', 'southern_us', 'mexican', 'mexican', 'irish', 'indian', 'mexican', 'greek', 'indian', 'japanese', 'mexican', 'cajun_creole', 'indian', 'indian', 'mexican', 'italian', 'italian', 'french', 'chinese', 'vietnamese', 'cajun_creole', 'french', 'french', 'french', 'french', 'mexican', 'chinese', 'italian', 'british', 'italian', 'italian', 'mexican', 'vietnamese', 'french', 'russian', 'indian', 'italian', 'southern_us', 'chinese', 'vietnamese', 'cajun_creole', 'french', 'italian', 'southern_us', 'indian', 'thai', 'chinese', 'japanese', 'southern_us', 'spanish', 'mexican', 'french', 'southern_us', 'chinese', 'mexican', 'southern_us', 'french', 'italian', 'russian', 'cajun_creole', 'cajun_creole', 'mexican', 'italian', 'mexican', 'southern_us', 'southern_us', 'italian', 'russian', 'british', 'italian', 'italian', 'thai', 'korean', 'italian', 'spanish', 'southern_us', 'indian', 'british', 'chinese', 'thai', 'korean', 'southern_us', 'mexican', 'british', 'indian', 'thai', 'italian', 'filipino', 'russian', 'indian', 'japanese', 'southern_us', 'cajun_creole', 'spanish', 'british', 'mexican', 'greek', 'indian', 'southern_us', 'moroccan', 'italian', 'mexican', 'spanish', 'indian', 'greek', 'southern_us', 'italian', 'korean', 'cajun_creole', 'mexican', 'russian', 'mexican', 'italian', 'italian', 'filipino', 'mexican', 'southern_us', 'british', 'italian', 'italian', 'chinese', 'italian', 'italian', 'italian', 'southern_us', 'cajun_creole', 'moroccan', 'thai', 'thai', 'mexican', 'mexican', 'italian', 'moroccan', 'italian', 'southern_us', 'cajun_creole', 'mexican', 'french', 'italian', 'mexican', 'japanese', 'mexican', 'southern_us', 'southern_us', 'italian', 'southern_us', 'southern_us', 'italian', 'chinese', 'thai', 'chinese', 'french', 'chinese', 'southern_us', 'filipino', 'korean', 'southern_us', 'mexican', 'italian', 'mexican', 'thai', 'moroccan', 'italian', 'italian', 'moroccan', 'mexican', 'french', 'spanish', 'italian', 'mexican', 'moroccan', 'moroccan', 'indian', 'indian', 'filipino', 'chinese', 'italian', 'greek', 'mexican', 'mexican', 'southern_us', 'french', 'thai', 'filipino', 'italian', 'greek', 'mexican', 'french', 'italian', 'italian', 'moroccan', 'french', 'mexican', 'cajun_creole', 'greek', 'southern_us', 'thai', 'mexican', 'mexican', 'japanese', 'indian', 'mexican', 'mexican', 'mexican', 'italian', 'chinese', 'irish', 'greek', 'italian', 'korean', 'mexican', 'vietnamese', 'italian', 'indian', 'greek', 'mexican', 'italian', 'brazilian', 'southern_us', 'thai', 'japanese', 'filipino', 'japanese', 'chinese', 'italian', 'chinese', 'japanese', 'moroccan', 'italian', 'indian', 'greek', 'french', 'cajun_creole', 'mexican', 'mexican', 'indian', 'mexican', 'cajun_creole', 'italian', 'italian', 'mexican', 'italian', 'thai', 'mexican', 'greek', 'moroccan', 'mexican', 'korean', 'italian', 'spanish', 'greek', 'italian', 'mexican', 'jamaican', 'british', 'italian', 'korean', 'japanese', 'british', 'vietnamese', 'italian', 'mexican', 'mexican', 'indian', 'mexican', 'italian', 'italian', 'french', 'chinese', 'italian', 'mexican', 'indian', 'korean', 'brazilian', 'japanese', 'mexican', 'spanish', 'jamaican', 'french', 'italian', 'italian', 'chinese', 'indian', 'chinese', 'indian', 'filipino', 'italian', 'british', 'cajun_creole', 'southern_us', 'mexican', 'italian', 'southern_us', 'mexican', 'mexican', 'italian', 'thai', 'chinese', 'italian', 'mexican', 'indian', 'chinese', 'thai', 'italian', 'southern_us', 'thai', 'spanish', 'korean', 'chinese', 'mexican', 'southern_us', 'southern_us', 'indian', 'mexican', 'thai', 'jamaican', 'italian', 'italian', 'italian', 'brazilian', 'brazilian', 'italian', 'italian', 'irish', 'italian', 'italian', 'mexican', 'italian', 'spanish', 'indian', 'southern_us', 'moroccan', 'italian', 'spanish', 'indian', 'british', 'chinese', 'brazilian', 'indian', 'irish', 'french', 'chinese', 'mexican', 'italian', 'cajun_creole', 'mexican', 'japanese', 'cajun_creole', 'japanese', 'mexican', 'italian', 'italian', 'thai', 'italian', 'mexican', 'russian', 'italian', 'southern_us', 'italian', 'southern_us', 'indian', 'mexican', 'mexican', 'italian', 'brazilian', 'thai', 'italian', 'thai', 'korean', 'indian', 'mexican', 'italian', 'brazilian', 'italian', 'italian', 'thai', 'french', 'brazilian', 'french', 'spanish', 'southern_us', 'brazilian', 'japanese', 'chinese', 'italian', 'southern_us', 'italian', 'mexican', 'italian', 'mexican', 'mexican', 'mexican', 'mexican', 'italian', 'thai', 'vietnamese', 'cajun_creole', 'italian', 'mexican', 'italian', 'thai', 'italian', 'italian', 'greek', 'indian', 'moroccan', 'southern_us', 'italian', 'southern_us', 'mexican', 'french', 'thai', 'mexican', 'indian', 'italian', 'italian', 'italian', 'mexican', 'indian', 'chinese', 'mexican', 'mexican', 'mexican', 'mexican', 'italian', 'italian', 'filipino', 'spanish', 'indian', 'indian', 'southern_us', 'jamaican', 'indian', 'cajun_creole', 'chinese', 'southern_us', 'italian', 'cajun_creole', 'italian', 'thai', 'italian', 'italian', 'vietnamese', 'italian', 'southern_us', 'brazilian', 'thai', 'cajun_creole', 'french', 'southern_us', 'mexican', 'british', 'italian', 'chinese', 'southern_us', 'moroccan', 'moroccan', 'french', 'indian', 'italian', 'vietnamese', 'french', 'italian', 'thai', 'french', 'japanese', 'indian', 'italian', 'southern_us', 'southern_us', 'italian', 'russian', 'cajun_creole', 'british', 'italian', 'mexican', 'indian', 'cajun_creole', 'southern_us', 'thai', 'mexican', 'southern_us', 'mexican', 'thai', 'french', 'italian', 'southern_us', 'chinese', 'italian', 'italian', 'japanese', 'italian', 'moroccan', 'italian', 'mexican', 'indian', 'mexican', 'mexican', 'chinese', 'italian', 'mexican', 'mexican', 'italian', 'filipino', 'thai', 'british', 'mexican', 'italian', 'mexican', 'moroccan', 'korean', 'thai', 'brazilian', 'korean', 'indian', 'mexican', 'japanese', 'korean', 'southern_us', 'mexican', 'southern_us', 'italian', 'mexican', 'indian', 'thai', 'italian', 'italian', 'italian', 'french', 'indian', 'cajun_creole', 'italian', 'southern_us', 'mexican', 'italian', 'indian', 'cajun_creole', 'thai', 'french', 'italian', 'mexican', 'chinese', 'southern_us', 'spanish', 'british', 'french', 'french', 'italian', 'greek', 'greek', 'mexican', 'italian', 'jamaican', 'italian', 'british', 'mexican', 'irish', 'southern_us', 'indian', 'italian', 'thai', 'moroccan', 'italian', 'mexican', 'mexican', 'italian', 'mexican', 'italian', 'italian', 'moroccan', 'mexican', 'korean', 'indian', 'french', 'southern_us', 'brazilian', 'mexican', 'italian', 'thai', 'brazilian', 'french', 'italian', 'mexican', 'french', 'greek', 'british', 'chinese', 'mexican', 'thai', 'chinese', 'cajun_creole', 'irish', 'mexican', 'greek', 'chinese', 'italian', 'greek', 'italian', 'italian', 'italian', 'mexican', 'mexican', 'italian', 'french', 'mexican', 'thai', 'italian', 'russian', 'mexican', 'indian', 'french', 'italian', 'italian', 'indian', 'italian', 'vietnamese', 'mexican', 'french', 'italian', 'japanese', 'jamaican', 'japanese', 'spanish', 'italian', 'italian', 'chinese', 'italian', 'mexican', 'italian', 'irish', 'chinese', 'southern_us', 'italian', 'spanish', 'southern_us', 'italian', 'mexican', 'french', 'italian', 'italian', 'thai', 'thai', 'mexican', 'russian', 'italian', 'spanish', 'mexican', 'japanese', 'italian', 'italian', 'chinese', 'italian', 'irish', 'cajun_creole', 'greek', 'mexican', 'korean', 'filipino', 'italian', 'indian', 'southern_us', 'italian', 'japanese', 'mexican', 'spanish', 'french', 'filipino', 'italian', 'chinese', 'italian', 'chinese', 'southern_us', 'southern_us', 'southern_us', 'mexican', 'italian', 'italian', 'southern_us', 'mexican', 'chinese', 'mexican', 'brazilian', 'mexican', 'cajun_creole', 'thai', 'french', 'cajun_creole', 'southern_us', 'cajun_creole', 'french', 'indian', 'indian', 'indian', 'french', 'cajun_creole', 'moroccan', 'mexican', 'mexican', 'southern_us', 'moroccan', 'chinese', 'italian', 'spanish', 'italian', 'chinese', 'indian', 'italian', 'southern_us', 'irish', 'spanish', 'spanish', 'cajun_creole', 'french', 'cajun_creole', 'southern_us', 'greek', 'mexican', 'italian', 'southern_us', 'irish', 'italian', 'french', 'japanese', 'indian', 'indian', 'italian', 'filipino', 'mexican', 'filipino', 'french', 'mexican', 'indian', 'southern_us', 'southern_us', 'italian', 'british', 'thai', 'chinese', 'mexican', 'cajun_creole', 'cajun_creole', 'italian', 'mexican', 'indian', 'cajun_creole', 'mexican', 'chinese', 'indian', 'italian', 'chinese', 'mexican', 'indian', 'southern_us', 'french', 'italian', 'french', 'italian', 'greek', 'mexican', 'italian', 'chinese', 'french', 'cajun_creole', 'thai', 'chinese', 'mexican', 'indian', 'french', 'italian', 'french', 'italian', 'southern_us', 'indian', 'thai', 'japanese', 'mexican', 'greek', 'indian', 'southern_us', 'indian', 'italian', 'mexican', 'italian', 'vietnamese', 'mexican', 'mexican', 'thai', 'mexican', 'french', 'cajun_creole', 'mexican', 'chinese', 'italian', 'cajun_creole', 'italian', 'mexican', 'italian', 'jamaican', 'italian', 'italian', 'greek', 'mexican', 'southern_us', 'vietnamese', 'french', 'indian', 'italian', 'southern_us', 'cajun_creole', 'cajun_creole', 'italian', 'southern_us', 'mexican', 'italian', 'mexican', 'mexican', 'southern_us', 'mexican', 'french', 'italian', 'korean', 'chinese', 'mexican', 'italian', 'thai', 'mexican', 'korean', 'italian', 'french', 'southern_us', 'mexican', 'southern_us', 'italian', 'italian', 'italian', 'russian', 'french', 'italian', 'cajun_creole', 'italian', 'italian', 'italian', 'french', 'british', 'italian', 'italian', 'french', 'japanese', 'chinese', 'french', 'indian', 'thai', 'indian', 'french', 'italian', 'cajun_creole', 'italian', 'southern_us', 'thai', 'french', 'italian', 'thai', 'southern_us', 'mexican', 'thai', 'italian', 'brazilian', 'mexican', 'greek', 'southern_us', 'mexican', 'mexican', 'italian', 'southern_us', 'southern_us', 'mexican', 'cajun_creole', 'indian', 'italian', 'chinese', 'italian', 'greek', 'mexican', 'french', 'chinese', 'thai', 'indian', 'italian', 'mexican', 'mexican', 'mexican', 'chinese', 'french', 'mexican', 'korean', 'mexican', 'spanish', 'thai', 'french', 'spanish', 'moroccan', 'mexican', 'indian', 'french', 'moroccan', 'chinese', 'italian', 'mexican', 'vietnamese', 'southern_us', 'mexican', 'mexican', 'japanese', 'british', 'french', 'italian', 'japanese', 'mexican', 'mexican', 'japanese', 'indian', 'british', 'chinese', 'filipino', 'mexican', 'french', 'jamaican', 'indian', 'italian', 'french', 'french', 'korean', 'thai', 'mexican', 'french', 'thai', 'mexican', 'chinese', 'italian', 'brazilian', 'french', 'mexican', 'mexican', 'greek', 'chinese', 'southern_us', 'southern_us', 'french', 'french', 'french', 'italian', 'indian', 'cajun_creole', 'mexican', 'italian', 'jamaican', 'mexican', 'mexican', 'southern_us', 'mexican', 'italian', 'southern_us', 'thai', 'french', 'southern_us', 'french', 'italian', 'cajun_creole', 'jamaican', 'indian', 'french', 'british', 'mexican', 'korean', 'russian', 'mexican', 'italian', 'british', 'italian', 'spanish', 'southern_us', 'italian', 'italian', 'mexican', 'southern_us', 'jamaican', 'italian', 'indian', 'cajun_creole', 'thai', 'thai', 'brazilian', 'indian', 'spanish', 'spanish', 'mexican', 'russian', 'thai', 'italian', 'mexican', 'mexican', 'italian', 'mexican', 'chinese', 'mexican', 'italian', 'italian', 'mexican', 'italian', 'mexican', 'italian', 'french', 'southern_us', 'british', 'mexican', 'mexican', 'italian', 'greek', 'chinese', 'japanese', 'irish', 'southern_us', 'southern_us', 'italian', 'italian', 'southern_us', 'thai', 'japanese', 'thai', 'french', 'moroccan', 'indian', 'southern_us', 'chinese', 'french', 'chinese', 'japanese', 'moroccan', 'italian', 'italian', 'greek', 'cajun_creole', 'italian', 'chinese', 'spanish', 'russian', 'indian', 'japanese', 'korean', 'french', 'french', 'mexican', 'southern_us', 'mexican', 'british', 'italian', 'cajun_creole', 'korean', 'southern_us', 'italian', 'italian', 'cajun_creole', 'indian', 'italian', 'italian', 'indian', 'indian', 'moroccan', 'italian', 'chinese', 'mexican', 'southern_us', 'japanese', 'italian', 'southern_us', 'italian', 'italian', 'mexican', 'mexican', 'italian', 'italian', 'southern_us', 'japanese', 'cajun_creole', 'japanese', 'italian', 'indian', 'indian', 'irish', 'chinese', 'southern_us', 'indian', 'cajun_creole', 'italian', 'mexican', 'italian', 'moroccan', 'southern_us', 'japanese', 'french', 'japanese', 'italian', 'chinese', 'spanish', 'thai', 'french', 'filipino', 'chinese', 'italian', 'indian', 'french', 'vietnamese', 'mexican', 'italian', 'moroccan', 'mexican', 'mexican', 'greek', 'mexican', 'indian', 'filipino', 'korean', 'southern_us', 'japanese', 'southern_us', 'french', 'korean', 'chinese', 'italian', 'irish', 'mexican', 'jamaican', 'italian', 'french', 'cajun_creole', 'southern_us', 'korean', 'vietnamese', 'italian', 'japanese', 'indian', 'southern_us', 'indian', 'italian', 'italian', 'southern_us', 'southern_us', 'mexican', 'filipino', 'mexican', 'mexican', 'italian', 'indian', 'southern_us', 'southern_us', 'southern_us', 'mexican', 'mexican', 'jamaican', 'korean', 'southern_us', 'italian', 'french', 'indian', 'italian', 'indian', 'southern_us', 'chinese', 'indian', 'chinese', 'chinese', 'southern_us', 'thai', 'mexican', 'mexican', 'italian', 'chinese', 'russian', 'japanese', 'southern_us', 'southern_us', 'italian', 'italian', 'mexican', 'southern_us', 'indian', 'french', 'french', 'french', 'southern_us', 'italian', 'italian', 'indian', 'filipino', 'mexican', 'chinese', 'italian', 'greek', 'italian', 'italian', 'filipino', 'italian', 'italian', 'southern_us', 'italian', 'mexican', 'italian', 'indian', 'mexican', 'mexican', 'korean', 'mexican', 'mexican', 'french', 'mexican', 'british', 'indian', 'greek', 'thai', 'italian', 'russian', 'italian', 'french', 'french', 'cajun_creole', 'greek', 'mexican', 'british', 'brazilian', 'mexican', 'italian', 'french', 'italian', 'vietnamese', 'indian', 'japanese', 'brazilian', 'italian', 'spanish', 'japanese', 'italian', 'italian', 'indian', 'italian', 'mexican', 'italian', 'spanish', 'russian', 'mexican', 'mexican', 'indian', 'irish', 'mexican', 'spanish', 'southern_us', 'chinese', 'korean', 'italian', 'italian', 'italian', 'italian', 'italian', 'mexican', 'cajun_creole', 'italian', 'russian', 'southern_us', 'spanish', 'southern_us', 'thai', 'italian', 'greek', 'southern_us', 'italian', 'italian', 'chinese', 'southern_us', 'indian', 'italian', 'filipino', 'british', 'mexican', 'jamaican', 'italian', 'french', 'jamaican', 'chinese', 'mexican', 'indian', 'greek', 'greek', 'chinese', 'italian', 'mexican', 'filipino', 'cajun_creole', 'french', 'cajun_creole', 'japanese', 'vietnamese', 'greek', 'jamaican', 'southern_us', 'southern_us', 'mexican', 'greek', 'indian', 'chinese', 'italian', 'mexican', 'mexican', 'french', 'italian', 'indian', 'italian', 'mexican', 'russian', 'french', 'italian', 'jamaican', 'italian', 'indian', 'chinese', 'chinese', 'korean', 'french', 'mexican', 'mexican', 'irish', 'french', 'indian', 'mexican', 'thai', 'italian', 'spanish', 'thai', 'mexican', 'italian', 'thai', 'french', 'chinese', 'italian', 'mexican', 'chinese', 'korean', 'moroccan', 'chinese', 'korean', 'italian', 'british', 'greek', 'cajun_creole', 'southern_us', 'french', 'mexican', 'mexican', 'mexican', 'mexican', 'korean', 'italian', 'southern_us', 'mexican', 'mexican', 'korean', 'southern_us', 'southern_us', 'korean', 'filipino', 'southern_us', 'japanese', 'italian', 'italian', 'jamaican', 'southern_us', 'french', 'french', 'mexican', 'chinese', 'moroccan', 'italian', 'southern_us', 'indian', 'british', 'japanese', 'indian', 'korean', 'mexican', 'southern_us', 'french', 'brazilian', 'irish', 'mexican', 'southern_us', 'moroccan', 'southern_us', 'chinese', 'mexican', 'indian', 'chinese', 'southern_us', 'cajun_creole', 'mexican', 'russian', 'moroccan', 'indian', 'southern_us', 'italian', 'thai', 'japanese', 'indian', 'italian', 'filipino', 'spanish', 'filipino', 'mexican', 'greek', 'french', 'chinese', 'southern_us', 'mexican', 'italian', 'southern_us', 'russian', 'russian', 'italian', 'italian', 'cajun_creole', 'chinese', 'italian', 'mexican', 'jamaican', 'southern_us', 'mexican', 'japanese', 'southern_us', 'mexican', 'italian', 'british', 'indian', 'italian', 'indian', 'italian', 'italian', 'chinese', 'mexican', 'italian', 'italian', 'italian', 'italian', 'mexican', 'chinese', 'mexican', 'mexican', 'indian', 'filipino', 'mexican', 'italian', 'italian', 'italian', 'cajun_creole', 'mexican', 'mexican', 'italian', 'british', 'italian', 'chinese', 'southern_us', 'italian', 'italian', 'vietnamese', 'cajun_creole', 'southern_us', 'mexican', 'italian', 'italian', 'italian', 'french', 'thai', 'irish', 'mexican', 'italian', 'mexican', 'french', 'southern_us', 'italian', 'mexican', 'japanese', 'southern_us', 'mexican', 'italian', 'vietnamese', 'southern_us', 'french', 'french', 'british', 'italian', 'french', 'british', 'italian', 'italian', 'italian', 'mexican', 'korean', 'italian', 'mexican', 'italian', 'indian', 'french', 'french', 'chinese', 'indian', 'korean', 'italian', 'mexican', 'mexican', 'mexican', 'southern_us', 'filipino', 'french', 'french', 'greek', 'mexican', 'japanese', 'mexican', 'italian', 'jamaican', 'cajun_creole', 'southern_us', 'spanish', 'italian', 'greek', 'thai', 'chinese', 'thai', 'italian', 'mexican', 'mexican', 'cajun_creole', 'french', 'indian', 'thai', 'mexican', 'cajun_creole', 'thai', 'italian', 'spanish', 'irish', 'cajun_creole', 'mexican', 'mexican', 'mexican', 'indian', 'southern_us', 'moroccan', 'italian', 'italian', 'russian', 'thai', 'italian', 'cajun_creole', 'mexican', 'chinese', 'korean', 'irish', 'french', 'southern_us', 'irish', 'italian', 'mexican', 'vietnamese', 'italian', 'italian', 'mexican', 'mexican', 'japanese', 'southern_us', 'southern_us', 'italian', 'mexican', 'italian', 'mexican', 'vietnamese', 'indian', 'chinese', 'italian', 'italian', 'indian', 'jamaican', 'italian', 'brazilian', 'mexican', 'italian', 'italian', 'mexican', 'mexican', 'cajun_creole', 'thai', 'southern_us', 'french', 'indian', 'vietnamese', 'moroccan', 'cajun_creole', 'mexican', 'mexican', 'mexican', 'italian', 'spanish', 'mexican', 'greek', 'filipino', 'mexican', 'french', 'italian', 'greek', 'irish', 'italian', 'chinese', 'chinese', 'chinese', 'french', 'thai', 'italian', 'filipino', 'chinese', 'cajun_creole', 'cajun_creole', 'french', 'indian', 'italian', 'italian', 'chinese', 'southern_us', 'southern_us', 'italian', 'italian', 'korean', 'indian', 'italian', 'southern_us', 'korean', 'italian', 'italian', 'mexican', 'mexican', 'cajun_creole', 'mexican', 'chinese', 'italian', 'mexican', 'chinese', 'indian', 'southern_us', 'french', 'greek', 'italian', 'thai', 'italian', 'mexican', 'chinese', 'french', 'jamaican', 'thai', 'italian', 'mexican', 'italian', 'french', 'indian', 'chinese', 'chinese', 'chinese', 'indian', 'french', 'mexican', 'french', 'indian', 'italian', 'italian', 'british', 'mexican', 'thai', 'moroccan', 'thai', 'southern_us', 'italian', 'italian', 'indian', 'filipino', 'cajun_creole', 'russian', 'mexican', 'french', 'italian', 'italian', 'greek', 'southern_us', 'italian', 'italian', 'mexican', 'japanese', 'mexican', 'moroccan', 'french', 'french', 'italian', 'mexican', 'mexican', 'mexican', 'cajun_creole', 'mexican', 'southern_us', 'cajun_creole', 'spanish', 'chinese', 'mexican', 'chinese', 'greek', 'mexican', 'italian', 'southern_us', 'italian', 'chinese', 'japanese', 'cajun_creole', 'cajun_creole', 'italian', 'filipino', 'vietnamese', 'french', 'southern_us', 'italian', 'greek', 'southern_us', 'indian', 'chinese', 'italian', 'italian', 'southern_us', 'indian', 'vietnamese', 'moroccan', 'mexican', 'italian', 'italian', 'irish', 'southern_us', 'thai', 'chinese', 'indian', 'indian', 'mexican', 'mexican', 'italian', 'jamaican', 'chinese', 'chinese', 'italian', 'italian', 'chinese', 'russian', 'moroccan', 'italian', 'irish', 'mexican', 'southern_us', 'italian', 'spanish', 'korean', 'cajun_creole', 'chinese', 'chinese', 'french', 'italian', 'french', 'moroccan', 'japanese', 'italian', 'mexican', 'italian', 'italian', 'southern_us', 'indian', 'french', 'southern_us', 'british', 'mexican', 'mexican', 'mexican', 'thai', 'mexican', 'indian', 'cajun_creole', 'italian', 'italian', 'british', 'russian', 'italian', 'italian', 'mexican', 'brazilian', 'french', 'french', 'french', 'irish', 'cajun_creole', 'chinese', 'cajun_creole', 'indian', 'french', 'mexican', 'italian', 'indian', 'southern_us', 'italian', 'mexican', 'italian', 'indian', 'japanese', 'indian', 'italian', 'spanish', 'mexican', 'filipino', 'italian', 'chinese', 'italian', 'mexican', 'mexican', 'mexican', 'mexican', 'italian', 'mexican', 'moroccan', 'southern_us', 'cajun_creole', 'filipino', 'indian', 'southern_us', 'french', 'spanish', 'indian', 'italian', 'japanese', 'british', 'indian', 'moroccan', 'japanese', 'italian', 'mexican', 'korean', 'italian', 'italian', 'italian', 'greek', 'indian', 'southern_us', 'thai', 'chinese', 'korean', 'moroccan', 'italian', 'french', 'italian', 'french', 'chinese', 'thai', 'mexican', 'italian', 'italian', 'southern_us', 'indian', 'moroccan', 'indian', 'vietnamese', 'russian', 'greek', 'mexican', 'mexican', 'mexican', 'italian', 'mexican', 'british', 'french', 'southern_us', 'italian', 'mexican', 'vietnamese', 'mexican', 'southern_us', 'southern_us', 'filipino', 'mexican', 'italian', 'spanish', 'chinese', 'southern_us', 'chinese', 'brazilian', 'british', 'mexican', 'greek', 'mexican', 'thai', 'italian', 'french', 'chinese', 'italian', 'filipino', 'italian', 'brazilian', 'spanish', 'japanese', 'mexican', 'filipino', 'filipino', 'vietnamese', 'indian', 'mexican', 'mexican', 'cajun_creole', 'french', 'italian', 'spanish', 'japanese', 'chinese', 'indian', 'indian', 'french', 'italian', 'southern_us', 'moroccan', 'southern_us', 'southern_us', 'filipino', 'thai', 'indian', 'british', 'southern_us', 'italian', 'brazilian', 'mexican', 'mexican', 'chinese', 'japanese', 'filipino', 'italian', 'southern_us', 'french', 'chinese', 'italian', 'indian', 'indian', 'chinese', 'mexican', 'mexican', 'thai', 'southern_us', 'cajun_creole', 'irish', 'vietnamese', 'southern_us', 'french', 'southern_us', 'southern_us', 'greek', 'italian', 'mexican', 'french', 'chinese', 'italian', 'japanese', 'southern_us', 'mexican', 'mexican', 'japanese', 'jamaican', 'greek', 'thai', 'italian', 'french', 'indian', 'mexican', 'southern_us', 'italian', 'italian', 'indian', 'irish', 'thai', 'chinese', 'thai', 'korean', 'chinese', 'mexican', 'chinese', 'southern_us', 'british', 'italian', 'italian', 'italian', 'chinese', 'mexican', 'italian', 'cajun_creole', 'southern_us', 'italian', 'italian', 'thai', 'italian', 'mexican', 'southern_us', 'japanese', 'southern_us', 'korean', 'southern_us', 'mexican', 'mexican', 'italian', 'jamaican', 'chinese', 'italian', 'vietnamese', 'chinese', 'korean', 'mexican', 'mexican', 'southern_us', 'filipino', 'british', 'spanish', 'italian', 'chinese', 'italian', 'french', 'thai', 'french', 'mexican', 'mexican', 'chinese', 'indian', 'chinese', 'mexican', 'southern_us', 'jamaican', 'japanese', 'mexican', 'indian', 'indian', 'italian', 'mexican', 'italian', 'irish', 'mexican', 'italian', 'chinese', 'french', 'italian', 'french', 'italian', 'filipino', 'french', 'indian', 'irish', 'italian', 'vietnamese', 'indian', 'spanish', 'indian', 'thai', 'thai', 'mexican', 'mexican', 'italian', 'british', 'japanese', 'indian', 'southern_us', 'mexican', 'thai', 'cajun_creole', 'cajun_creole', 'chinese', 'greek', 'chinese', 'italian', 'british', 'greek', 'mexican', 'italian', 'italian', 'mexican', 'japanese', 'italian', 'southern_us', 'french', 'russian', 'thai', 'indian', 'italian', 'greek', 'moroccan', 'indian', 'indian', 'cajun_creole', 'chinese', 'spanish', 'mexican', 'italian', 'thai', 'italian', 'indian', 'italian', 'chinese', 'southern_us', 'southern_us', 'mexican', 'cajun_creole', 'mexican', 'vietnamese', 'french', 'thai', 'korean', 'chinese', 'italian', 'chinese', 'french', 'italian', 'korean', 'southern_us', 'mexican', 'italian', 'french', 'italian', 'cajun_creole', 'thai', 'indian', 'italian', 'cajun_creole', 'italian', 'mexican', 'cajun_creole', 'thai', 'irish', 'italian', 'chinese', 'chinese', 'french', 'italian', 'southern_us', 'japanese', 'italian', 'southern_us', 'italian', 'southern_us', 'italian', 'chinese', 'british', 'filipino', 'mexican', 'mexican', 'italian', 'italian', 'italian', 'spanish', 'french', 'southern_us', 'southern_us', 'greek', 'chinese', 'italian', 'indian', 'brazilian', 'italian', 'italian', 'italian', 'filipino', 'italian', 'japanese', 'french', 'british', 'southern_us', 'indian', 'french', 'mexican', 'french', 'french', 'mexican', 'southern_us', 'mexican', 'greek', 'mexican', 'french', 'irish', 'mexican', 'brazilian', 'italian', 'japanese', 'greek', 'southern_us', 'indian', 'italian', 'korean', 'filipino', 'mexican', 'greek', 'mexican', 'southern_us', 'brazilian', 'italian', 'italian', 'indian', 'thai', 'french', 'thai', 'indian', 'mexican', 'greek', 'irish', 'italian', 'mexican', 'thai', 'italian', 'french', 'southern_us', 'cajun_creole', 'jamaican', 'greek', 'mexican', 'spanish', 'mexican', 'indian', 'italian', 'southern_us', 'indian', 'french', 'french', 'japanese', 'mexican', 'korean', 'spanish', 'italian', 'italian', 'southern_us', 'southern_us', 'indian', 'korean', 'cajun_creole', 'italian', 'chinese', 'french', 'mexican', 'italian', 'southern_us', 'indian', 'italian', 'chinese', 'mexican', 'indian', 'filipino', 'italian', 'chinese', 'chinese', 'chinese', 'chinese', 'korean', 'japanese', 'mexican', 'italian', 'mexican', 'italian', 'italian', 'italian', 'thai', 'italian', 'cajun_creole', 'southern_us', 'southern_us', 'italian', 'mexican', 'mexican', 'mexican', 'vietnamese', 'mexican', 'mexican', 'cajun_creole', 'italian', 'moroccan', 'italian', 'southern_us', 'italian', 'italian', 'southern_us', 'italian', 'southern_us', 'mexican', 'spanish', 'italian', 'filipino', 'italian', 'italian', 'italian', 'russian', 'indian', 'italian', 'french', 'chinese', 'italian', 'vietnamese', 'italian', 'italian', 'chinese', 'cajun_creole', 'italian', 'french', 'french', 'italian', 'spanish', 'vietnamese', 'spanish', 'indian', 'cajun_creole', 'mexican', 'chinese', 'southern_us', 'cajun_creole', 'mexican', 'filipino', 'mexican', 'southern_us', 'moroccan', 'french', 'italian', 'italian', 'thai', 'indian', 'french', 'thai', 'italian', 'cajun_creole', 'mexican', 'thai', 'indian', 'southern_us', 'indian', 'chinese', 'french', 'italian', 'irish', 'italian', 'italian', 'indian', 'southern_us', 'vietnamese', 'filipino', 'irish', 'greek', 'spanish', 'southern_us', 'indian', 'chinese', 'italian', 'indian', 'chinese', 'southern_us', 'mexican', 'chinese', 'italian', 'italian', 'chinese', 'italian', 'italian', 'italian', 'french', 'cajun_creole', 'southern_us', 'japanese', 'southern_us', 'italian', 'indian', 'southern_us', 'vietnamese', 'mexican', 'italian', 'italian', 'italian', 'indian', 'greek', 'mexican', 'mexican', 'greek', 'mexican', 'chinese', 'italian', 'mexican', 'mexican', 'greek', 'italian', 'indian', 'italian', 'mexican', 'mexican', 'vietnamese', 'cajun_creole', 'cajun_creole', 'italian', 'japanese', 'mexican', 'greek', 'greek', 'italian', 'spanish', 'italian', 'french', 'indian', 'italian', 'chinese', 'french', 'italian', 'korean', 'british', 'mexican', 'italian', 'italian', 'jamaican', 'italian', 'irish', 'mexican', 'jamaican', 'mexican', 'japanese', 'indian', 'italian', 'british', 'italian', 'chinese', 'jamaican', 'southern_us', 'moroccan', 'italian', 'italian', 'japanese', 'french', 'chinese', 'chinese', 'brazilian', 'italian', 'southern_us', 'french', 'french', 'cajun_creole', 'indian', 'filipino', 'french', 'southern_us', 'indian', 'cajun_creole', 'mexican', 'cajun_creole', 'mexican', 'mexican', 'jamaican', 'moroccan', 'japanese', 'southern_us', 'korean', 'italian', 'italian', 'mexican', 'indian', 'southern_us', 'mexican', 'indian', 'mexican', 'chinese', 'thai', 'french', 'italian', 'southern_us', 'southern_us', 'thai', 'indian', 'british', 'italian', 'italian', 'southern_us', 'french', 'southern_us', 'southern_us', 'indian', 'indian', 'cajun_creole', 'french', 'mexican', 'cajun_creole', 'southern_us', 'indian', 'italian', 'french', 'southern_us', 'southern_us', 'southern_us', 'moroccan', 'spanish', 'french', 'italian', 'greek', 'southern_us', 'greek', 'italian', 'italian', 'thai', 'indian', 'thai', 'mexican', 'southern_us', 'indian', 'italian', 'southern_us', 'jamaican', 'italian', 'italian', 'italian', 'italian', 'italian', 'thai', 'italian', 'british', 'irish', 'mexican', 'indian', 'filipino', 'mexican', 'chinese', 'thai', 'southern_us', 'chinese', 'french', 'southern_us', 'french', 'southern_us', 'mexican', 'british', 'indian', 'indian', 'italian', 'southern_us', 'italian', 'mexican', 'mexican', 'italian', 'italian', 'indian', 'filipino', 'cajun_creole', 'southern_us', 'italian', 'british', 'french', 'chinese', 'chinese', 'mexican', 'mexican', 'indian', 'indian', 'thai', 'thai', 'brazilian', 'thai', 'italian', 'mexican', 'thai', 'moroccan', 'russian', 'indian', 'french', 'chinese', 'vietnamese', 'indian', 'indian', 'french', 'italian', 'southern_us', 'british', 'indian', 'southern_us', 'spanish', 'southern_us', 'italian', 'spanish', 'italian', 'chinese', 'korean', 'italian', 'mexican', 'italian', 'italian', 'french', 'filipino', 'british', 'indian', 'mexican', 'southern_us', 'japanese', 'japanese', 'italian', 'vietnamese', 'mexican', 'greek', 'russian', 'italian', 'italian', 'italian', 'russian', 'italian', 'italian', 'italian', 'mexican', 'greek', 'indian', 'mexican', 'italian', 'spanish', 'italian', 'southern_us', 'chinese', 'mexican', 'italian', 'italian', 'japanese', 'cajun_creole', 'french', 'thai', 'italian', 'italian', 'korean', 'japanese', 'mexican', 'italian', 'vietnamese', 'italian', 'indian', 'mexican', 'mexican', 'mexican', 'french', 'indian', 'brazilian', 'french', 'indian', 'mexican', 'thai', 'filipino', 'french', 'southern_us', 'cajun_creole', 'italian', 'italian', 'french', 'italian', 'filipino', 'chinese', 'mexican', 'indian', 'thai', 'italian', 'french', 'mexican', 'southern_us', 'mexican', 'chinese', 'chinese', 'italian', 'mexican', 'southern_us', 'french', 'mexican', 'mexican', 'italian', 'mexican', 'japanese', 'indian', 'british', 'jamaican', 'thai', 'mexican', 'greek', 'southern_us', 'cajun_creole', 'chinese', 'mexican', 'spanish', 'mexican', 'spanish', 'japanese', 'italian', 'thai', 'french', 'cajun_creole', 'cajun_creole', 'french', 'southern_us', 'southern_us', 'southern_us', 'southern_us', 'chinese', 'italian', 'thai', 'southern_us', 'british', 'mexican', 'moroccan', 'japanese', 'indian', 'italian', 'vietnamese', 'brazilian', 'italian', 'filipino', 'italian', 'mexican', 'french', 'italian', 'russian', 'southern_us', 'french', 'jamaican', 'mexican', 'italian', 'indian', 'french', 'southern_us', 'filipino', 'indian', 'cajun_creole', 'indian', 'mexican', 'mexican', 'mexican', 'mexican', 'chinese', 'indian', 'indian', 'chinese', 'southern_us', 'indian', 'mexican', 'italian', 'italian', 'mexican', 'mexican', 'french', 'mexican', 'italian', 'french', 'indian', 'indian', 'moroccan', 'cajun_creole', 'korean', 'italian', 'italian', 'southern_us', 'japanese', 'italian', 'italian', 'mexican', 'indian', 'mexican', 'brazilian', 'cajun_creole', 'mexican', 'filipino', 'indian', 'chinese', 'southern_us', 'mexican', 'italian', 'irish', 'chinese', 'indian', 'spanish', 'spanish', 'italian', 'southern_us', 'filipino', 'mexican', 'indian', 'french', 'filipino', 'spanish', 'mexican', 'mexican', 'italian', 'french', 'mexican', 'french', 'thai', 'indian', 'thai', 'italian', 'southern_us', 'italian', 'mexican', 'french', 'greek', 'southern_us', 'italian', 'indian', 'british', 'cajun_creole', 'italian', 'italian', 'chinese', 'italian', 'italian', 'italian', 'italian', 'thai', 'italian', 'japanese', 'indian', 'brazilian', 'southern_us', 'vietnamese', 'mexican', 'chinese', 'british', 'mexican', 'mexican', 'mexican', 'indian', 'mexican', 'italian', 'italian', 'mexican', 'southern_us', 'italian', 'indian', 'cajun_creole', 'thai', 'italian', 'french', 'french', 'italian', 'thai', 'thai', 'japanese', 'jamaican', 'thai', 'greek', 'mexican', 'italian', 'italian', 'mexican', 'italian', 'vietnamese', 'italian', 'southern_us', 'italian', 'southern_us', 'mexican', 'mexican', 'mexican', 'italian', 'italian', 'italian', 'italian', 'italian', 'cajun_creole', 'italian', 'southern_us', 'mexican', 'chinese', 'mexican', 'southern_us', 'chinese', 'mexican', 'southern_us', 'italian', 'spanish', 'thai', 'indian', 'chinese', 'spanish', 'greek', 'cajun_creole', 'southern_us', 'southern_us', 'british', 'southern_us', 'korean', 'southern_us', 'filipino', 'cajun_creole', 'korean', 'italian', 'chinese', 'mexican', 'moroccan', 'southern_us', 'indian', 'italian', 'french', 'moroccan', 'japanese', 'chinese', 'cajun_creole', 'french', 'irish', 'french', 'indian', 'southern_us', 'southern_us', 'mexican', 'spanish', 'italian', 'korean', 'italian', 'irish', 'thai', 'mexican', 'irish', 'chinese', 'vietnamese', 'chinese', 'cajun_creole', 'chinese', 'korean', 'vietnamese', 'italian', 'italian', 'italian', 'chinese', 'italian', 'indian', 'chinese', 'indian', 'indian', 'korean', 'indian', 'mexican', 'mexican', 'southern_us', 'french', 'southern_us', 'indian', 'indian', 'italian', 'chinese', 'chinese', 'mexican', 'french', 'southern_us', 'mexican', 'thai', 'mexican', 'chinese', 'southern_us', 'chinese', 'indian', 'indian', 'southern_us', 'french', 'mexican', 'italian', 'mexican', 'greek', 'french', 'cajun_creole', 'moroccan', 'italian', 'italian', 'italian', 'brazilian', 'indian', 'mexican', 'jamaican', 'mexican', 'moroccan', 'southern_us', 'italian', 'jamaican', 'french', 'italian', 'french', 'vietnamese', 'southern_us', 'brazilian', 'italian', 'chinese', 'southern_us', 'chinese', 'indian', 'chinese', 'filipino', 'southern_us', 'italian', 'cajun_creole', 'italian', 'italian', 'indian', 'mexican', 'southern_us', 'italian', 'thai', 'chinese', 'jamaican', 'chinese', 'chinese', 'southern_us', 'mexican', 'chinese', 'japanese', 'thai', 'italian', 'southern_us', 'spanish', 'italian', 'indian', 'mexican', 'italian', 'mexican', 'mexican', 'southern_us', 'southern_us', 'spanish', 'greek', 'italian', 'irish', 'french', 'irish', 'chinese', 'french', 'southern_us', 'thai', 'korean', 'vietnamese', 'french', 'chinese', 'irish', 'korean', 'korean', 'italian', 'russian', 'mexican', 'french', 'mexican', 'thai', 'japanese', 'korean', 'italian', 'japanese', 'korean', 'indian', 'italian', 'thai', 'thai', 'mexican', 'filipino', 'southern_us', 'italian', 'italian', 'italian', 'french', 'italian', 'italian', 'russian', 'italian', 'spanish', 'thai', 'italian', 'southern_us', 'brazilian', 'italian', 'indian', 'japanese', 'italian', 'southern_us', 'british', 'british', 'italian', 'french', 'chinese', 'southern_us', 'vietnamese', 'thai', 'mexican', 'cajun_creole', 'mexican', 'indian', 'italian', 'indian', 'chinese', 'filipino', 'french', 'mexican', 'southern_us', 'british', 'italian', 'italian', 'french', 'mexican', 'thai', 'french', 'italian', 'southern_us', 'mexican', 'mexican', 'italian', 'southern_us', 'cajun_creole', 'thai', 'irish', 'indian', 'greek', 'italian', 'british', 'mexican', 'french', 'thai', 'mexican', 'italian', 'italian', 'southern_us', 'irish', 'japanese', 'italian', 'southern_us', 'southern_us', 'italian', 'irish', 'french', 'french', 'thai', 'mexican', 'mexican', 'indian', 'mexican', 'italian', 'indian', 'brazilian', 'southern_us', 'italian', 'italian', 'italian', 'mexican', 'mexican', 'italian', 'southern_us', 'italian', 'italian', 'italian', 'mexican', 'japanese', 'irish', 'italian', 'indian', 'southern_us', 'chinese', 'french', 'indian', 'mexican', 'mexican', 'mexican', 'vietnamese', 'mexican', 'chinese', 'southern_us', 'chinese', 'italian', 'french', 'southern_us', 'mexican', 'korean', 'chinese', 'british', 'vietnamese', 'indian', 'thai', 'indian', 'moroccan', 'chinese', 'italian', 'italian', 'russian', 'italian', 'greek', 'italian', 'italian', 'italian', 'french', 'french', 'italian', 'chinese', 'jamaican', 'southern_us', 'moroccan', 'indian', 'thai', 'italian', 'mexican', 'indian', 'mexican', 'italian', 'mexican', 'chinese', 'indian', 'mexican', 'mexican', 'mexican', 'chinese', 'italian', 'indian', 'cajun_creole', 'french', 'mexican', 'french', 'brazilian', 'mexican', 'italian', 'chinese', 'indian', 'italian', 'italian', 'southern_us', 'indian', 'italian', 'cajun_creole', 'southern_us', 'indian', 'mexican', 'cajun_creole', 'french', 'southern_us', 'mexican', 'southern_us', 'mexican', 'italian', 'italian', 'russian', 'thai', 'moroccan', 'southern_us', 'chinese', 'indian', 'french', 'italian', 'italian', 'southern_us', 'indian', 'mexican', 'italian', 'cajun_creole', 'greek', 'vietnamese', 'italian', 'indian', 'russian', 'chinese', 'french', 'vietnamese', 'thai', 'greek', 'spanish', 'mexican', 'italian', 'thai', 'cajun_creole', 'mexican', 'italian', 'indian', 'russian', 'southern_us', 'cajun_creole', 'mexican', 'italian', 'italian', 'brazilian', 'british', 'moroccan', 'indian', 'indian', 'greek', 'thai', 'indian', 'spanish', 'indian', 'italian', 'cajun_creole', 'italian', 'italian', 'indian', 'southern_us', 'spanish', 'mexican', 'indian', 'italian', 'thai', 'korean', 'british', 'mexican', 'italian', 'southern_us', 'italian', 'italian', 'mexican', 'indian', 'mexican', 'thai', 'southern_us', 'mexican', 'french', 'indian', 'southern_us', 'italian', 'french', 'southern_us', 'filipino', 'thai', 'indian', 'italian', 'japanese', 'french', 'southern_us', 'greek', 'french', 'french', 'italian', 'british', 'mexican', 'thai', 'indian', 'brazilian', 'southern_us', 'chinese', 'mexican', 'italian', 'mexican', 'southern_us', 'italian', 'italian', 'irish', 'italian', 'mexican', 'italian', 'french', 'mexican', 'korean', 'italian', 'indian', 'french', 'mexican', 'southern_us', 'italian', 'filipino', 'brazilian', 'japanese', 'mexican', 'indian', 'italian', 'moroccan', 'french', 'filipino', 'chinese', 'italian', 'korean', 'chinese', 'cajun_creole', 'italian', 'chinese', 'french', 'chinese', 'southern_us', 'indian', 'mexican', 'italian', 'irish', 'mexican', 'italian', 'mexican', 'southern_us', 'cajun_creole', 'italian', 'vietnamese', 'southern_us', 'japanese', 'italian', 'vietnamese', 'mexican', 'greek', 'italian', 'indian', 'italian', 'cajun_creole', 'indian', 'filipino', 'thai', 'chinese', 'korean', 'russian', 'greek', 'southern_us', 'southern_us', 'brazilian', 'italian', 'mexican', 'moroccan', 'indian', 'vietnamese', 'french', 'indian', 'mexican', 'southern_us', 'spanish', 'british', 'southern_us', 'indian', 'italian', 'british', 'chinese', 'french', 'italian', 'cajun_creole', 'filipino', 'italian', 'cajun_creole', 'mexican', 'chinese', 'thai', 'southern_us', 'southern_us', 'southern_us', 'italian', 'mexican', 'italian', 'moroccan', 'french', 'cajun_creole', 'british', 'cajun_creole', 'thai', 'moroccan', 'russian', 'cajun_creole', 'japanese', 'mexican', 'french', 'mexican', 'japanese', 'greek', 'japanese', 'southern_us', 'mexican', 'indian', 'french', 'mexican', 'southern_us', 'italian', 'mexican', 'italian', 'chinese', 'italian', 'italian', 'italian', 'southern_us', 'vietnamese', 'italian', 'italian', 'vietnamese', 'italian', 'vietnamese', 'italian', 'british', 'korean', 'cajun_creole', 'mexican', 'indian', 'italian', 'greek', 'moroccan', 'southern_us', 'italian', 'greek', 'mexican', 'indian', 'mexican', 'french', 'mexican', 'southern_us', 'italian', 'indian', 'vietnamese', 'chinese', 'mexican', 'southern_us', 'irish', 'italian', 'chinese', 'italian', 'moroccan', 'italian', 'french', 'french', 'mexican', 'indian', 'southern_us', 'italian', 'italian', 'indian', 'indian', 'jamaican', 'southern_us', 'filipino', 'filipino', 'italian', 'italian', 'southern_us', 'thai', 'italian', 'chinese', 'italian', 'mexican', 'mexican', 'thai', 'mexican', 'irish', 'mexican', 'mexican', 'italian', 'italian', 'mexican', 'indian', 'greek', 'mexican', 'italian', 'french', 'cajun_creole', 'italian', 'french', 'british', 'japanese', 'mexican', 'italian', 'chinese', 'greek', 'italian', 'italian', 'southern_us', 'greek', 'greek', 'vietnamese', 'french', 'brazilian', 'mexican', 'spanish', 'japanese', 'cajun_creole', 'italian', 'indian', 'french', 'italian', 'thai', 'thai', 'indian', 'mexican', 'thai', 'italian', 'thai', 'italian', 'indian', 'cajun_creole', 'indian', 'thai', 'irish', 'mexican', 'chinese', 'italian', 'greek', 'korean', 'italian', 'italian', 'french', 'russian', 'italian', 'french', 'thai', 'chinese', 'mexican', 'french', 'southern_us', 'italian', 'italian', 'mexican', 'southern_us', 'italian', 'french', 'korean', 'korean', 'japanese', 'italian', 'italian', 'chinese', 'italian', 'cajun_creole', 'filipino', 'cajun_creole', 'thai', 'french', 'mexican', 'chinese', 'thai', 'moroccan', 'french', 'jamaican', 'italian', 'thai', 'italian', 'italian', 'italian', 'mexican', 'irish', 'southern_us', 'thai', 'spanish', 'filipino', 'vietnamese', 'southern_us', 'mexican', 'thai', 'french', 'moroccan', 'mexican', 'japanese', 'italian', 'irish', 'cajun_creole', 'french', 'irish', 'chinese', 'italian', 'irish', 'italian', 'italian', 'italian', 'french', 'thai', 'mexican', 'italian', 'italian', 'italian', 'italian', 'italian', 'moroccan', 'indian', 'mexican', 'brazilian', 'japanese', 'thai', 'italian', 'moroccan', 'chinese', 'french', 'mexican', 'jamaican', 'greek', 'thai', 'italian', 'chinese', 'british', 'chinese', 'indian', 'italian', 'indian', 'brazilian', 'southern_us', 'filipino', 'indian', 'greek', 'indian', 'mexican', 'mexican', 'indian', 'thai', 'indian', 'mexican', 'thai', 'italian', 'french', 'moroccan', 'mexican', 'french', 'thai', 'southern_us', 'japanese', 'moroccan', 'cajun_creole', 'filipino', 'french', 'italian', 'italian', 'brazilian', 'italian', 'italian', 'chinese', 'korean', 'southern_us', 'chinese', 'mexican', 'cajun_creole', 'italian', 'irish', 'french', 'italian', 'french', 'chinese', 'italian', 'italian', 'french', 'mexican', 'italian', 'indian', 'italian', 'thai', 'italian', 'italian', 'italian', 'indian', 'moroccan', 'greek', 'chinese', 'french', 'mexican', 'cajun_creole', 'italian', 'italian', 'southern_us', 'french', 'jamaican', 'indian', 'french', 'italian', 'italian', 'mexican', 'greek', 'mexican', 'greek', 'korean', 'italian', 'filipino', 'chinese', 'mexican', 'italian', 'mexican', 'chinese', 'brazilian', 'italian', 'southern_us', 'italian', 'cajun_creole', 'mexican', 'southern_us', 'southern_us', 'korean', 'southern_us', 'italian', 'southern_us', 'italian', 'italian', 'thai', 'mexican', 'mexican', 'chinese', 'mexican', 'italian', 'indian', 'thai', 'mexican', 'mexican', 'moroccan', 'british', 'chinese', 'french', 'mexican', 'mexican', 'italian', 'chinese', 'italian', 'mexican', 'indian', 'italian', 'mexican', 'spanish', 'italian', 'southern_us', 'italian', 'french', 'chinese', 'korean', 'southern_us', 'mexican', 'mexican', 'mexican', 'southern_us', 'italian', 'southern_us', 'mexican', 'chinese', 'italian', 'japanese', 'indian', 'british', 'mexican', 'mexican', 'indian', 'indian', 'mexican', 'chinese', 'chinese', 'french', 'italian', 'chinese', 'italian', 'italian', 'indian', 'cajun_creole', 'italian', 'italian', 'italian', 'mexican', 'italian', 'italian', 'japanese', 'greek', 'italian', 'mexican', 'moroccan', 'southern_us', 'mexican', 'italian', 'korean', 'cajun_creole', 'southern_us', 'italian', 'brazilian', 'italian', 'indian', 'mexican', 'french', 'southern_us', 'mexican', 'thai', 'mexican', 'british', 'french', 'mexican', 'indian', 'irish', 'thai', 'chinese', 'cajun_creole', 'chinese', 'italian', 'italian', 'mexican', 'russian', 'japanese', 'italian', 'indian', 'mexican', 'southern_us', 'greek', 'spanish', 'italian', 'vietnamese', 'cajun_creole', 'indian', 'italian', 'thai', 'indian', 'chinese', 'japanese', 'italian', 'indian', 'italian', 'southern_us', 'korean', 'greek', 'italian', 'italian', 'thai', 'japanese', 'southern_us', 'chinese', 'mexican', 'italian', 'russian', 'japanese', 'italian', 'indian', 'brazilian', 'french', 'mexican', 'filipino', 'jamaican', 'french', 'cajun_creole', 'italian', 'mexican', 'thai', 'mexican', 'french', 'mexican', 'greek', 'mexican', 'french', 'italian', 'southern_us', 'korean', 'italian', 'italian', 'cajun_creole', 'italian', 'italian', 'southern_us', 'southern_us', 'italian', 'brazilian', 'italian', 'italian', 'cajun_creole', 'french', 'mexican', 'mexican', 'southern_us', 'italian', 'italian', 'brazilian', 'mexican', 'chinese', 'jamaican', 'indian', 'greek', 'mexican', 'korean', 'cajun_creole', 'southern_us', 'southern_us', 'thai', 'mexican', 'moroccan', 'indian', 'korean', 'spanish', 'mexican', 'french', 'chinese', 'thai', 'indian', 'french', 'italian', 'italian', 'indian', 'southern_us', 'thai', 'greek', 'italian', 'italian', 'cajun_creole', 'italian', 'southern_us', 'french', 'italian', 'filipino', 'mexican', 'french', 'italian', 'greek', 'japanese', 'chinese', 'italian', 'mexican', 'southern_us', 'italian', 'mexican', 'chinese', 'italian', 'brazilian', 'chinese', 'irish', 'spanish', 'thai', 'italian', 'mexican', 'indian', 'chinese', 'mexican', 'french', 'chinese', 'southern_us', 'moroccan', 'spanish', 'southern_us', 'french', 'italian', 'spanish', 'cajun_creole', 'moroccan', 'indian', 'mexican', 'thai', 'mexican', 'french', 'southern_us', 'french', 'italian', 'mexican', 'mexican', 'southern_us', 'indian', 'chinese', 'spanish', 'italian', 'italian', 'mexican', 'french', 'spanish', 'japanese', 'russian', 'indian', 'indian', 'italian', 'italian', 'japanese', 'mexican', 'italian', 'indian', 'mexican', 'japanese', 'italian', 'italian', 'italian', 'irish', 'spanish', 'chinese', 'chinese', 'italian', 'mexican', 'mexican', 'southern_us', 'italian', 'southern_us', 'korean', 'italian', 'indian', 'mexican', 'italian', 'mexican', 'southern_us', 'chinese', 'french', 'southern_us', 'chinese', 'chinese', 'thai', 'french', 'thai', 'chinese', 'italian', 'french', 'greek', 'chinese', 'greek', 'italian', 'italian', 'mexican', 'mexican', 'irish', 'greek', 'southern_us', 'italian', 'mexican', 'indian', 'chinese', 'french', 'cajun_creole', 'korean', 'korean', 'italian', 'chinese', 'chinese', 'southern_us', 'southern_us', 'southern_us', 'italian', 'british', 'italian', 'irish', 'french', 'chinese', 'indian', 'southern_us', 'italian', 'italian', 'italian', 'japanese', 'mexican', 'mexican', 'thai', 'french', 'british', 'mexican', 'italian', 'french', 'filipino', 'mexican', 'italian', 'chinese', 'thai', 'mexican', 'chinese', 'italian', 'french', 'vietnamese', 'cajun_creole', 'italian', 'italian', 'chinese', 'indian', 'southern_us', 'mexican', 'french', 'mexican', 'italian', 'southern_us', 'italian', 'southern_us', 'italian', 'brazilian', 'japanese', 'mexican', 'southern_us', 'british', 'chinese', 'italian', 'chinese', 'italian', 'mexican', 'italian', 'british', 'italian', 'greek', 'mexican', 'irish', 'chinese', 'filipino', 'thai', 'italian', 'italian', 'korean', 'japanese', 'french', 'thai', 'indian', 'italian', 'cajun_creole', 'spanish', 'italian', 'indian', 'mexican', 'russian', 'indian', 'southern_us', 'chinese', 'southern_us', 'chinese', 'greek', 'brazilian', 'italian', 'chinese', 'moroccan', 'russian', 'southern_us', 'southern_us', 'italian', 'mexican', 'italian', 'italian', 'southern_us', 'indian', 'spanish', 'mexican', 'southern_us', 'mexican', 'italian', 'southern_us', 'spanish', 'mexican', 'french', 'southern_us', 'indian', 'french', 'italian', 'southern_us', 'southern_us', 'filipino', 'irish', 'southern_us', 'french', 'french', 'italian', 'chinese', 'indian', 'italian', 'indian', 'greek', 'french', 'southern_us', 'thai', 'mexican', 'french', 'mexican', 'indian', 'southern_us', 'irish', 'mexican', 'indian', 'italian', 'italian', 'southern_us', 'indian', 'southern_us', 'cajun_creole', 'spanish', 'italian', 'italian', 'irish', 'irish', 'chinese', 'cajun_creole', 'italian', 'vietnamese', 'filipino', 'chinese', 'french', 'italian', 'italian', 'spanish', 'korean', 'southern_us', 'southern_us', 'southern_us', 'mexican', 'thai', 'mexican', 'southern_us', 'southern_us', 'indian', 'indian', 'korean', 'italian', 'mexican', 'southern_us', 'indian', 'italian', 'chinese', 'mexican', 'russian', 'italian', 'italian', 'mexican', 'indian', 'british', 'italian', 'mexican', 'french', 'cajun_creole', 'italian', 'mexican', 'jamaican', 'french', 'greek', 'indian', 'thai', 'italian', 'chinese', 'mexican', 'southern_us', 'vietnamese', 'mexican', 'italian', 'indian', 'italian', 'indian', 'italian', 'indian', 'italian', 'italian', 'spanish', 'french', 'southern_us', 'chinese', 'italian', 'thai', 'southern_us', 'mexican', 'japanese', 'mexican', 'italian', 'italian', 'southern_us', 'thai', 'moroccan', 'mexican', 'mexican', 'chinese', 'southern_us', 'cajun_creole', 'indian', 'thai', 'southern_us', 'southern_us', 'mexican', 'korean', 'chinese', 'british', 'chinese', 'filipino', 'mexican', 'spanish', 'chinese', 'mexican', 'irish', 'moroccan', 'italian', 'southern_us', 'italian', 'chinese', 'italian', 'moroccan', 'italian', 'greek', 'southern_us', 'irish', 'russian', 'mexican', 'italian', 'russian', 'italian', 'southern_us', 'moroccan', 'italian', 'italian', 'italian', 'mexican', 'cajun_creole', 'mexican', 'southern_us', 'mexican', 'french', 'chinese', 'southern_us', 'cajun_creole', 'cajun_creole', 'thai', 'southern_us', 'italian', 'italian', 'italian', 'chinese', 'french', 'french', 'italian', 'chinese', 'italian', 'chinese', 'italian', 'mexican', 'greek', 'italian', 'southern_us', 'italian', 'brazilian', 'southern_us', 'italian', 'japanese', 'italian', 'french', 'jamaican', 'thai', 'indian', 'moroccan', 'italian', 'greek', 'southern_us', 'indian', 'spanish', 'southern_us', 'moroccan', 'italian', 'japanese', 'indian', 'italian', 'british', 'chinese', 'chinese', 'chinese', 'mexican', 'chinese', 'spanish', 'mexican', 'mexican', 'vietnamese', 'italian', 'french', 'southern_us', 'indian', 'mexican', 'vietnamese', 'italian', 'spanish', 'mexican', 'mexican', 'italian', 'mexican', 'italian', 'indian', 'mexican', 'cajun_creole', 'french', 'mexican', 'italian', 'french', 'french', 'irish', 'chinese', 'chinese', 'indian', 'southern_us', 'moroccan', 'japanese', 'southern_us', 'italian', 'moroccan', 'indian', 'mexican', 'french', 'mexican', 'korean', 'japanese', 'mexican', 'thai', 'mexican', 'thai', 'french', 'italian', 'italian', 'chinese', 'chinese', 'italian', 'southern_us', 'indian', 'italian', 'japanese', 'russian', 'chinese', 'indian', 'chinese', 'cajun_creole', 'vietnamese', 'thai', 'spanish', 'chinese', 'mexican', 'southern_us', 'italian', 'southern_us', 'italian', 'vietnamese', 'southern_us', 'southern_us', 'southern_us', 'jamaican', 'italian', 'italian', 'italian', 'jamaican', 'moroccan', 'mexican', 'mexican', 'indian', 'chinese', 'southern_us', 'southern_us', 'mexican', 'italian', 'french', 'mexican', 'italian', 'mexican', 'chinese', 'southern_us', 'korean', 'mexican', 'mexican', 'indian', 'italian', 'jamaican', 'southern_us', 'french', 'indian', 'italian', 'mexican', 'italian', 'thai', 'mexican', 'italian', 'cajun_creole', 'indian', 'italian', 'filipino', 'brazilian', 'italian', 'mexican', 'brazilian', 'filipino', 'french', 'italian', 'italian', 'mexican', 'french', 'mexican', 'moroccan', 'italian', 'japanese', 'mexican', 'french', 'irish', 'filipino', 'southern_us', 'korean', 'mexican', 'british', 'chinese', 'italian', 'mexican', 'filipino', 'mexican', 'mexican', 'mexican', 'southern_us', 'southern_us', 'italian', 'italian', 'italian', 'indian', 'mexican', 'italian', 'chinese', 'italian', 'thai', 'irish', 'russian', 'mexican', 'southern_us', 'italian', 'chinese', 'southern_us', 'indian', 'filipino', 'indian', 'italian', 'italian', 'mexican', 'moroccan', 'southern_us', 'italian', 'vietnamese', 'italian', 'indian', 'japanese', 'cajun_creole', 'italian', 'vietnamese', 'italian', 'french', 'indian', 'french', 'mexican', 'chinese', 'mexican', 'mexican', 'mexican', 'cajun_creole', 'italian', 'russian', 'italian', 'southern_us', 'italian', 'italian', 'french', 'italian', 'indian', 'italian', 'southern_us', 'chinese', 'thai', 'british', 'italian', 'japanese', 'italian', 'thai', 'russian', 'italian', 'southern_us', 'italian', 'indian', 'mexican', 'italian', 'chinese', 'indian', 'greek', 'italian', 'italian', 'moroccan', 'british', 'southern_us', 'chinese', 'filipino', 'chinese', 'greek', 'italian', 'japanese', 'italian', 'mexican', 'greek', 'korean', 'italian', 'french', 'mexican', 'thai', 'mexican', 'thai', 'chinese', 'italian', 'russian', 'mexican', 'mexican', 'italian', 'brazilian', 'mexican', 'mexican', 'mexican', 'mexican', 'greek', 'irish', 'brazilian', 'irish', 'indian', 'british', 'italian', 'indian', 'italian', 'mexican', 'french', 'italian', 'japanese', 'chinese', 'mexican', 'french', 'mexican', 'filipino', 'cajun_creole', 'indian', 'japanese', 'indian', 'spanish', 'indian', 'russian', 'indian', 'korean', 'mexican', 'mexican', 'mexican', 'korean', 'southern_us', 'italian', 'italian', 'thai', 'italian', 'mexican', 'japanese', 'moroccan', 'southern_us', 'italian', 'southern_us', 'italian', 'british', 'italian', 'cajun_creole', 'japanese', 'mexican', 'italian', 'thai', 'irish', 'jamaican', 'italian', 'indian', 'mexican', 'southern_us', 'jamaican', 'italian', 'mexican', 'vietnamese', 'chinese', 'french', 'thai', 'spanish', 'korean', 'italian', 'italian', 'southern_us', 'greek', 'mexican', 'chinese', 'vietnamese', 'southern_us', 'thai', 'french', 'mexican', 'japanese', 'mexican', 'thai', 'italian', 'greek', 'indian', 'japanese', 'italian', 'mexican', 'indian', 'filipino', 'mexican', 'mexican', 'korean', 'thai', 'southern_us', 'russian', 'thai', 'mexican', 'chinese', 'italian', 'thai', 'thai', 'indian', 'italian', 'french', 'japanese', 'vietnamese', 'mexican', 'french', 'moroccan', 'cajun_creole', 'mexican', 'korean', 'italian', 'indian', 'mexican', 'indian', 'indian', 'greek', 'british', 'chinese', 'indian', 'italian', 'chinese', 'italian', 'mexican', 'indian', 'italian', 'italian', 'japanese', 'chinese', 'mexican', 'french', 'italian', 'indian', 'vietnamese', 'moroccan', 'italian', 'irish', 'korean', 'italian', 'italian', 'spanish', 'italian', 'italian', 'italian', 'indian', 'greek', 'russian', 'mexican', 'irish', 'indian', 'mexican', 'chinese', 'irish', 'mexican', 'italian', 'italian', 'filipino', 'mexican', 'southern_us', 'mexican', 'indian', 'italian', 'french', 'italian', 'french', 'italian', 'british', 'southern_us', 'italian', 'mexican', 'thai', 'southern_us', 'mexican', 'italian', 'italian', 'southern_us', 'mexican', 'mexican', 'greek', 'irish', 'mexican', 'moroccan', 'greek', 'cajun_creole', 'mexican', 'french', 'french', 'vietnamese', 'filipino', 'italian', 'mexican', 'jamaican', 'southern_us', 'southern_us', 'italian', 'cajun_creole', 'italian', 'italian', 'mexican', 'korean', 'french', 'mexican', 'italian', 'spanish', 'southern_us', 'french', 'greek', 'mexican', 'british', 'mexican', 'mexican', 'italian', 'italian', 'chinese', 'italian', 'southern_us', 'italian', 'french', 'french', 'french', 'italian', 'mexican', 'italian', 'italian', 'southern_us', 'cajun_creole', 'italian', 'italian', 'thai', 'cajun_creole', 'french', 'irish', 'mexican', 'mexican', 'italian', 'french', 'mexican', 'italian', 'mexican', 'italian', 'italian', 'mexican', 'chinese', 'italian', 'jamaican', 'italian', 'french', 'italian', 'southern_us', 'indian', 'italian', 'thai', 'french', 'indian', 'mexican', 'italian', 'italian', 'cajun_creole', 'southern_us', 'mexican', 'southern_us', 'southern_us', 'british', 'italian', 'mexican', 'jamaican', 'japanese', 'vietnamese', 'chinese', 'chinese', 'irish', 'mexican', 'vietnamese', 'thai', 'cajun_creole', 'mexican', 'mexican', 'japanese', 'vietnamese', 'mexican', 'mexican', 'cajun_creole', 'mexican', 'italian', 'thai', 'greek', 'italian', 'italian', 'chinese', 'italian', 'italian', 'southern_us', 'thai', 'italian', 'southern_us', 'southern_us', 'korean', 'brazilian', 'southern_us', 'italian', 'indian', 'italian', 'mexican', 'cajun_creole', 'filipino', 'indian', 'chinese', 'italian', 'french', 'italian', 'indian', 'british', 'greek', 'french', 'filipino', 'chinese', 'italian', 'russian', 'mexican', 'southern_us', 'southern_us', 'chinese', 'southern_us', 'moroccan', 'southern_us', 'thai', 'cajun_creole', 'indian', 'mexican', 'mexican', 'southern_us', 'chinese', 'british', 'french', 'southern_us', 'thai', 'italian', 'russian', 'mexican', 'italian', 'japanese', 'southern_us', 'cajun_creole', 'indian', 'french', 'korean', 'southern_us', 'thai', 'southern_us', 'southern_us', 'chinese', 'italian', 'mexican', 'japanese', 'indian', 'filipino', 'thai', 'thai', 'moroccan', 'mexican', 'italian', 'thai', 'french', 'indian', 'italian', 'mexican', 'british', 'italian', 'japanese', 'british', 'british', 'italian', 'french', 'indian', 'vietnamese', 'indian', 'chinese', 'indian', 'filipino', 'irish', 'italian', 'vietnamese', 'chinese', 'italian', 'filipino', 'mexican', 'indian', 'mexican', 'italian', 'moroccan', 'mexican', 'cajun_creole', 'indian', 'french', 'chinese', 'moroccan', 'italian', 'moroccan', 'french', 'mexican', 'chinese', 'jamaican', 'mexican', 'italian', 'thai', 'mexican', 'chinese', 'southern_us', 'french', 'mexican', 'chinese', 'southern_us', 'indian', 'italian', 'mexican', 'chinese', 'french', 'cajun_creole', 'filipino', 'cajun_creole', 'italian', 'indian', 'italian', 'italian', 'mexican', 'japanese', 'italian', 'southern_us', 'french', 'indian', 'mexican', 'indian', 'greek', 'indian', 'japanese', 'mexican', 'filipino', 'italian', 'greek', 'italian', 'mexican', 'japanese', 'thai', 'mexican', 'mexican', 'southern_us', 'vietnamese', 'chinese', 'french', 'italian', 'mexican', 'southern_us', 'mexican', 'french', 'italian', 'filipino', 'italian', 'italian', 'italian', 'moroccan', 'italian', 'mexican', 'southern_us', 'japanese', 'mexican', 'filipino', 'italian', 'cajun_creole', 'korean', 'korean', 'chinese', 'thai', 'french', 'chinese', 'mexican', 'french', 'chinese', 'cajun_creole', 'spanish', 'chinese', 'chinese', 'italian', 'irish', 'french', 'french', 'italian', 'greek', 'southern_us', 'chinese', 'mexican', 'mexican', 'mexican', 'chinese', 'irish', 'mexican', 'british', 'italian', 'thai', 'british', 'chinese', 'chinese', 'italian', 'italian', 'cajun_creole', 'mexican', 'french', 'southern_us', 'russian', 'italian', 'indian', 'cajun_creole', 'mexican', 'brazilian', 'southern_us', 'chinese', 'japanese', 'italian', 'french', 'southern_us', 'chinese', 'italian', 'french', 'southern_us', 'southern_us', 'italian', 'mexican', 'british', 'french', 'chinese', 'indian', 'mexican', 'mexican', 'italian', 'japanese', 'mexican', 'mexican', 'italian', 'thai', 'italian', 'southern_us', 'southern_us', 'indian', 'italian', 'mexican', 'indian', 'italian', 'cajun_creole', 'italian', 'korean', 'cajun_creole', 'southern_us', 'filipino', 'spanish', 'southern_us', 'japanese', 'italian', 'italian', 'mexican', 'french', 'mexican', 'thai', 'southern_us', 'mexican', 'mexican', 'italian', 'french', 'irish', 'french', 'spanish', 'italian', 'indian', 'spanish', 'mexican', 'spanish', 'chinese', 'mexican', 'mexican', 'southern_us', 'mexican', 'mexican', 'mexican', 'chinese', 'french', 'mexican', 'italian', 'japanese', 'italian', 'japanese', 'french', 'italian', 'southern_us', 'japanese', 'french', 'thai', 'greek', 'chinese', 'mexican', 'irish', 'indian', 'moroccan', 'chinese', 'french', 'southern_us', 'italian', 'southern_us', 'moroccan', 'indian', 'french', 'korean', 'french', 'italian', 'mexican', 'mexican', 'mexican', 'mexican', 'italian', 'vietnamese', 'chinese', 'chinese', 'greek', 'french', 'chinese', 'italian', 'mexican', 'mexican', 'italian', 'mexican', 'cajun_creole', 'mexican', 'greek', 'japanese', 'irish', 'thai', 'indian', 'italian', 'italian', 'southern_us', 'french', 'southern_us', 'southern_us', 'italian', 'mexican', 'italian', 'southern_us', 'southern_us', 'cajun_creole', 'indian', 'french', 'mexican', 'cajun_creole', 'southern_us', 'mexican', 'irish', 'mexican', 'mexican', 'mexican', 'thai', 'chinese', 'cajun_creole', 'southern_us', 'italian', 'greek', 'mexican', 'vietnamese', 'moroccan', 'southern_us', 'chinese', 'french', 'mexican', 'greek', 'italian', 'italian', 'mexican', 'italian', 'southern_us', 'spanish', 'spanish', 'indian', 'mexican', 'italian', 'jamaican', 'thai', 'spanish', 'southern_us', 'korean', 'mexican', 'italian', 'indian', 'irish', 'italian', 'filipino', 'italian', 'chinese', 'italian', 'thai', 'italian', 'mexican', 'southern_us', 'italian', 'mexican', 'spanish', 'thai', 'spanish', 'japanese', 'italian', 'southern_us', 'mexican', 'italian', 'thai', 'greek', 'japanese', 'mexican', 'indian', 'japanese', 'french', 'italian', 'italian', 'korean', 'french', 'indian', 'indian', 'italian', 'mexican', 'italian', 'brazilian', 'thai', 'southern_us', 'italian', 'irish', 'spanish', 'korean', 'mexican', 'irish', 'chinese', 'french', 'indian', 'japanese', 'moroccan', 'southern_us', 'italian', 'italian', 'french', 'british', 'british', 'indian', 'japanese', 'italian', 'mexican', 'french', 'french', 'italian', 'italian', 'chinese', 'italian', 'chinese', 'southern_us', 'italian', 'indian', 'italian', 'jamaican', 'italian', 'southern_us', 'japanese', 'southern_us', 'british', 'french', 'cajun_creole', 'italian', 'mexican', 'korean', 'indian', 'mexican', 'italian', 'chinese', 'chinese', 'southern_us', 'mexican', 'southern_us', 'italian', 'spanish', 'indian', 'italian', 'chinese', 'italian', 'mexican', 'greek', 'chinese', 'french', 'filipino', 'italian', 'southern_us', 'thai', 'thai', 'mexican', 'indian', 'italian', 'southern_us', 'chinese', 'mexican', 'indian', 'italian', 'italian', 'mexican', 'southern_us', 'thai', 'italian', 'indian', 'mexican', 'chinese', 'vietnamese', 'southern_us', 'indian', 'indian', 'italian', 'mexican', 'thai', 'chinese', 'southern_us', 'japanese', 'southern_us', 'french', 'chinese', 'italian', 'italian', 'mexican', 'mexican', 'indian', 'italian', 'cajun_creole', 'indian', 'mexican', 'spanish', 'moroccan', 'southern_us', 'british', 'russian', 'mexican', 'moroccan', 'french', 'italian', 'italian', 'cajun_creole', 'southern_us', 'chinese', 'italian', 'brazilian', 'french', 'italian', 'southern_us', 'italian', 'italian', 'moroccan', 'italian', 'vietnamese', 'mexican', 'mexican', 'southern_us', 'italian', 'italian', 'southern_us', 'irish', 'french', 'mexican', 'italian', 'british', 'italian', 'italian', 'indian', 'brazilian', 'vietnamese', 'chinese', 'chinese', 'thai', 'chinese', 'russian', 'italian', 'mexican', 'italian', 'italian', 'thai', 'french', 'chinese', 'spanish', 'italian', 'jamaican', 'vietnamese', 'italian', 'greek', 'chinese', 'vietnamese', 'french', 'mexican', 'chinese', 'irish', 'italian', 'moroccan', 'mexican', 'greek', 'french', 'vietnamese', 'indian', 'southern_us', 'southern_us', 'mexican', 'filipino', 'southern_us', 'chinese', 'southern_us', 'italian', 'mexican', 'french', 'mexican', 'chinese', 'southern_us', 'italian', 'mexican', 'italian', 'italian', 'mexican', 'italian', 'mexican', 'mexican', 'mexican', 'thai', 'greek', 'moroccan', 'italian', 'chinese', 'italian', 'italian', 'thai', 'mexican', 'spanish', 'chinese', 'italian', 'indian', 'vietnamese', 'mexican', 'southern_us', 'mexican', 'mexican', 'irish', 'chinese', 'italian', 'mexican', 'french', 'greek', 'british', 'chinese', 'southern_us', 'southern_us', 'mexican', 'moroccan', 'cajun_creole', 'french', 'mexican', 'southern_us', 'moroccan', 'mexican', 'italian', 'chinese', 'italian', 'cajun_creole', 'mexican', 'spanish', 'italian', 'southern_us', 'italian', 'italian', 'moroccan', 'italian', 'indian', 'italian', 'cajun_creole', 'greek', 'mexican', 'chinese', 'italian', 'vietnamese', 'thai', 'mexican', 'french', 'italian', 'italian', 'indian', 'cajun_creole', 'mexican', 'indian', 'chinese', 'mexican', 'thai', 'southern_us', 'mexican', 'mexican', 'indian', 'chinese', 'spanish', 'mexican', 'thai', 'french', 'thai', 'southern_us', 'british', 'french', 'mexican', 'southern_us', 'indian', 'mexican', 'indian', 'chinese', 'mexican', 'italian', 'mexican', 'italian', 'mexican', 'italian', 'italian', 'chinese', 'french', 'cajun_creole', 'italian', 'indian', 'mexican', 'italian', 'british', 'filipino', 'italian', 'jamaican', 'southern_us', 'greek', 'italian', 'thai', 'chinese', 'southern_us', 'british', 'mexican', 'indian', 'chinese', 'indian', 'british', 'greek', 'italian', 'greek', 'chinese', 'italian', 'indian', 'cajun_creole', 'chinese', 'chinese', 'thai', 'irish', 'japanese', 'chinese', 'filipino', 'italian', 'italian', 'italian', 'french', 'mexican', 'french', 'mexican', 'cajun_creole', 'italian', 'french', 'japanese', 'italian', 'southern_us', 'italian', 'thai', 'mexican', 'chinese', 'moroccan', 'mexican', 'southern_us', 'italian', 'cajun_creole', 'italian', 'italian', 'french', 'chinese', 'italian', 'jamaican', 'mexican', 'italian', 'southern_us', 'french', 'southern_us', 'mexican', 'indian', 'italian', 'mexican', 'brazilian', 'mexican', 'mexican', 'mexican', 'spanish', 'vietnamese', 'indian', 'thai', 'indian', 'greek', 'korean', 'italian', 'italian', 'french', 'french', 'italian', 'italian', 'italian', 'japanese', 'mexican', 'french', 'mexican', 'jamaican', 'italian', 'italian', 'mexican', 'indian', 'vietnamese', 'southern_us', 'southern_us', 'french', 'indian', 'chinese', 'thai', 'moroccan', 'mexican', 'french', 'mexican', 'spanish', 'french', 'japanese', 'vietnamese', 'thai', 'italian', 'moroccan', 'indian', 'cajun_creole', 'japanese', 'japanese', 'mexican', 'jamaican', 'southern_us', 'mexican', 'french', 'italian', 'mexican', 'french', 'french', 'mexican', 'southern_us', 'italian', 'italian', 'korean', 'chinese', 'chinese', 'french', 'italian', 'cajun_creole', 'italian', 'brazilian', 'indian', 'russian', 'southern_us', 'irish', 'italian', 'mexican', 'french', 'chinese', 'chinese', 'british', 'mexican', 'french', 'japanese', 'italian', 'italian', 'french', 'french', 'british', 'mexican', 'chinese', 'mexican', 'thai', 'mexican', 'japanese', 'filipino', 'filipino', 'chinese', 'thai', 'italian', 'filipino', 'greek', 'french', 'italian', 'southern_us', 'mexican', 'chinese', 'indian', 'japanese', 'chinese', 'italian', 'mexican', 'chinese', 'italian', 'southern_us', 'russian', 'cajun_creole', 'southern_us', 'korean', 'jamaican', 'southern_us', 'italian', 'chinese', 'italian', 'indian', 'southern_us', 'mexican', 'southern_us', 'irish', 'italian', 'russian', 'thai', 'japanese', 'chinese', 'indian', 'mexican', 'chinese', 'british', 'italian', 'italian', 'southern_us', 'italian', 'italian', 'japanese', 'cajun_creole', 'chinese', 'irish', 'mexican', 'italian', 'mexican', 'italian', 'italian', 'southern_us', 'indian', 'greek', 'thai', 'mexican', 'filipino', 'irish', 'japanese', 'chinese', 'cajun_creole', 'italian', 'italian', 'chinese', 'mexican', 'italian', 'chinese', 'brazilian', 'southern_us', 'southern_us', 'mexican', 'spanish', 'french', 'mexican', 'spanish', 'italian', 'thai', 'italian', 'chinese', 'mexican', 'mexican', 'mexican', 'cajun_creole', 'japanese', 'mexican', 'cajun_creole', 'greek', 'mexican', 'french', 'italian', 'korean', 'greek', 'indian', 'moroccan', 'indian', 'indian', 'italian', 'mexican', 'russian', 'french', 'thai', 'filipino', 'french', 'korean', 'italian', 'italian', 'italian', 'italian', 'thai', 'indian', 'french', 'korean', 'chinese', 'chinese', 'southern_us', 'indian', 'southern_us', 'italian', 'cajun_creole', 'mexican', 'mexican', 'chinese', 'italian', 'korean', 'irish', 'japanese', 'italian', 'greek', 'japanese', 'japanese', 'italian', 'mexican', 'jamaican', 'italian', 'mexican', 'mexican', 'italian', 'mexican', 'indian', 'brazilian', 'southern_us', 'greek', 'mexican', 'mexican', 'japanese', 'italian', 'indian', 'french', 'greek', 'mexican', 'vietnamese', 'italian', 'italian', 'irish', 'french', 'french', 'mexican', 'filipino', 'italian', 'mexican', 'british', 'cajun_creole', 'filipino', 'chinese', 'mexican', 'italian', 'southern_us', 'irish', 'korean', 'mexican', 'mexican', 'chinese', 'indian', 'mexican', 'italian', 'brazilian', 'indian', 'southern_us', 'southern_us', 'irish', 'italian', 'vietnamese', 'southern_us', 'italian', 'italian', 'japanese', 'french', 'chinese', 'moroccan', 'mexican', 'thai', 'indian', 'mexican', 'french', 'italian', 'thai', 'southern_us', 'mexican', 'vietnamese', 'chinese', 'italian', 'moroccan', 'thai', 'italian', 'italian', 'mexican', 'korean', 'southern_us', 'italian', 'chinese', 'korean', 'spanish', 'brazilian', 'italian', 'italian', 'brazilian', 'french', 'french', 'chinese', 'italian', 'mexican', 'italian', 'chinese', 'indian', 'italian', 'mexican', 'mexican', 'southern_us', 'indian', 'indian', 'thai', 'japanese', 'southern_us', 'southern_us', 'southern_us', 'mexican', 'southern_us', 'vietnamese', 'italian', 'irish', 'southern_us', 'mexican', 'indian', 'japanese', 'chinese', 'irish', 'mexican', 'british', 'french', 'brazilian', 'brazilian', 'french', 'cajun_creole', 'southern_us', 'french', 'southern_us', 'filipino', 'italian', 'mexican', 'mexican', 'chinese', 'greek', 'mexican', 'italian', 'french', 'mexican', 'french', 'chinese', 'southern_us', 'italian', 'italian', 'french', 'italian', 'italian', 'southern_us', 'mexican', 'mexican', 'spanish', 'southern_us', 'mexican', 'mexican', 'italian', 'cajun_creole', 'mexican', 'indian', 'chinese', 'irish', 'cajun_creole', 'italian', 'southern_us', 'japanese', 'indian', 'southern_us', 'italian', 'chinese', 'southern_us', 'indian', 'french', 'filipino', 'filipino', 'indian', 'greek', 'french', 'japanese', 'southern_us', 'southern_us', 'chinese', 'italian', 'chinese', 'mexican', 'italian', 'russian', 'italian', 'mexican', 'indian', 'italian', 'chinese', 'french', 'southern_us', 'french', 'italian', 'thai', 'mexican', 'mexican', 'chinese', 'korean', 'italian', 'chinese', 'chinese', 'moroccan', 'french', 'mexican', 'japanese', 'italian', 'thai', 'indian', 'italian', 'indian', 'italian', 'japanese', 'mexican', 'indian', 'japanese', 'greek', 'greek', 'moroccan', 'indian', 'japanese', 'cajun_creole', 'italian', 'japanese', 'italian', 'italian', 'indian', 'mexican', 'chinese', 'italian', 'mexican', 'vietnamese', 'thai', 'southern_us', 'filipino', 'italian', 'southern_us', 'cajun_creole', 'mexican', 'mexican', 'mexican', 'mexican', 'mexican', 'mexican', 'moroccan', 'chinese', 'italian', 'british', 'indian', 'italian', 'italian', 'italian', 'jamaican', 'italian', 'italian', 'southern_us', 'french', 'italian', 'thai', 'korean', 'italian', 'indian', 'mexican', 'italian', 'mexican', 'southern_us', 'thai', 'chinese', 'mexican', 'chinese', 'italian', 'italian', 'southern_us', 'mexican', 'indian', 'italian', 'mexican', 'italian', 'italian', 'filipino', 'indian', 'indian', 'chinese', 'indian', 'southern_us', 'italian', 'mexican', 'greek', 'mexican', 'italian', 'chinese', 'greek', 'korean', 'chinese', 'italian', 'mexican', 'italian', 'mexican', 'italian', 'southern_us', 'irish', 'southern_us', 'italian', 'korean', 'mexican', 'korean', 'french', 'chinese', 'italian', 'chinese', 'italian', 'italian', 'italian', 'italian', 'mexican', 'filipino', 'chinese', 'italian', 'british', 'southern_us', 'italian', 'southern_us', 'southern_us', 'french', 'mexican', 'cajun_creole', 'mexican', 'mexican', 'mexican', 'thai', 'italian', 'russian', 'southern_us', 'southern_us', 'korean', 'filipino', 'russian', 'indian', 'irish', 'mexican', 'southern_us', 'filipino', 'thai', 'italian', 'moroccan', 'irish', 'mexican', 'italian', 'indian', 'mexican', 'japanese', 'italian', 'cajun_creole', 'moroccan', 'southern_us', 'indian', 'cajun_creole', 'italian', 'cajun_creole', 'chinese', 'chinese', 'british', 'cajun_creole', 'italian', 'italian', 'southern_us', 'italian', 'japanese', 'brazilian', 'french', 'chinese', 'mexican', 'cajun_creole', 'mexican', 'mexican', 'brazilian', 'italian', 'italian', 'mexican', 'filipino', 'southern_us', 'greek', 'irish', 'mexican', 'mexican', 'chinese', 'italian', 'cajun_creole', 'spanish', 'greek', 'italian', 'moroccan', 'filipino', 'italian', 'italian', 'southern_us', 'spanish', 'italian', 'southern_us', 'chinese', 'french', 'spanish', 'mexican', 'brazilian', 'indian', 'mexican', 'cajun_creole', 'southern_us', 'indian', 'indian', 'chinese', 'mexican', 'mexican', 'italian', 'thai', 'southern_us', 'french', 'cajun_creole', 'mexican', 'italian', 'italian', 'filipino', 'chinese', 'italian', 'italian', 'mexican', 'italian', 'indian', 'jamaican', 'thai', 'british', 'french', 'mexican', 'italian', 'italian', 'cajun_creole', 'italian', 'mexican', 'italian', 'mexican', 'mexican', 'french', 'italian', 'french', 'mexican', 'japanese', 'italian', 'southern_us', 'cajun_creole', 'southern_us', 'indian', 'chinese', 'southern_us', 'italian', 'indian', 'mexican', 'italian', 'italian', 'french', 'chinese', 'southern_us', 'cajun_creole', 'italian', 'mexican', 'irish', 'thai', 'italian', 'chinese', 'korean', 'japanese', 'indian', 'mexican', 'british', 'italian', 'french', 'mexican', 'southern_us', 'greek', 'jamaican', 'french', 'italian', 'french', 'italian', 'korean', 'mexican', 'mexican', 'greek', 'mexican', 'italian', 'filipino', 'indian', 'italian', 'spanish', 'italian', 'chinese', 'greek', 'french', 'cajun_creole', 'mexican', 'southern_us', 'chinese', 'italian', 'mexican', 'southern_us', 'indian', 'indian', 'thai', 'british', 'british', 'mexican', 'mexican', 'jamaican', 'southern_us', 'spanish', 'vietnamese', 'italian', 'mexican', 'italian', 'mexican', 'indian', 'mexican', 'southern_us', 'mexican', 'mexican', 'british', 'irish', 'southern_us', 'italian', 'indian', 'italian', 'spanish', 'italian', 'indian', 'thai', 'indian', 'southern_us', 'thai', 'southern_us', 'brazilian', 'vietnamese', 'french', 'thai', 'japanese', 'chinese', 'vietnamese', 'mexican', 'italian', 'mexican', 'southern_us', 'southern_us', 'mexican', 'italian', 'mexican', 'indian', 'cajun_creole', 'mexican', 'chinese', 'mexican', 'chinese', 'southern_us', 'italian', 'italian', 'japanese', 'cajun_creole', 'italian', 'mexican', 'mexican', 'indian', 'italian', 'italian', 'mexican', 'italian', 'mexican', 'french', 'italian', 'chinese', 'italian', 'mexican', 'southern_us', 'mexican', 'british', 'italian', 'indian', 'mexican', 'italian', 'moroccan', 'italian', 'italian', 'southern_us', 'chinese', 'cajun_creole', 'chinese', 'mexican', 'italian', 'french', 'irish', 'mexican', 'chinese', 'greek', 'italian', 'japanese', 'jamaican', 'filipino', 'mexican', 'thai', 'thai', 'southern_us', 'indian', 'thai', 'indian', 'italian', 'mexican', 'moroccan', 'mexican', 'southern_us', 'thai', 'spanish', 'french', 'japanese', 'vietnamese', 'mexican', 'mexican', 'italian', 'italian', 'mexican', 'japanese', 'southern_us', 'chinese', 'greek', 'indian', 'french', 'italian', 'italian', 'mexican', 'british', 'southern_us', 'southern_us', 'moroccan', 'southern_us', 'italian', 'cajun_creole', 'italian', 'mexican', 'mexican', 'french', 'chinese', 'italian', 'vietnamese', 'indian', 'mexican', 'vietnamese', 'chinese', 'irish', 'mexican', 'chinese', 'italian', 'thai', 'italian', 'chinese', 'italian', 'chinese', 'irish', 'mexican', 'italian', 'mexican', 'italian', 'moroccan', 'jamaican', 'mexican', 'italian', 'southern_us', 'jamaican', 'moroccan', 'southern_us', 'southern_us', 'italian', 'mexican', 'mexican', 'italian', 'southern_us', 'southern_us', 'vietnamese', 'mexican', 'greek', 'mexican', 'japanese', 'italian', 'french', 'brazilian', 'italian', 'mexican', 'spanish', 'chinese', 'italian', 'southern_us', 'mexican', 'brazilian', 'mexican', 'moroccan', 'italian', 'french', 'southern_us', 'italian', 'korean', 'chinese', 'southern_us', 'mexican', 'southern_us', 'italian', 'indian', 'mexican', 'indian', 'italian', 'cajun_creole', 'southern_us', 'chinese', 'mexican', 'italian', 'italian', 'french', 'irish', 'southern_us', 'italian', 'italian', 'french', 'italian', 'thai', 'mexican', 'mexican', 'chinese', 'chinese', 'filipino', 'greek', 'vietnamese', 'southern_us', 'moroccan', 'italian', 'mexican', 'mexican', 'mexican', 'mexican', 'italian', 'mexican', 'southern_us', 'japanese', 'chinese', 'italian', 'southern_us', 'italian', 'southern_us', 'mexican', 'chinese', 'italian', 'indian', 'chinese', 'italian', 'mexican', 'italian', 'southern_us', 'chinese', 'greek', 'korean', 'italian', 'southern_us', 'french', 'jamaican', 'french', 'french', 'italian', 'italian', 'moroccan', 'filipino', 'spanish', 'jamaican', 'british', 'mexican', 'thai', 'indian', 'indian', 'chinese', 'mexican', 'french', 'italian', 'cajun_creole', 'vietnamese', 'greek', 'italian', 'italian', 'cajun_creole', 'chinese', 'mexican', 'japanese', 'mexican', 'vietnamese', 'british', 'irish', 'southern_us', 'italian', 'thai', 'thai', 'spanish', 'mexican', 'indian', 'indian', 'mexican', 'italian', 'italian', 'indian', 'thai', 'thai', 'mexican', 'greek', 'indian', 'indian', 'french', 'italian', 'japanese', 'chinese', 'french', 'mexican', 'greek', 'indian', 'chinese', 'italian', 'italian', 'italian', 'chinese', 'mexican', 'italian', 'southern_us', 'southern_us', 'southern_us', 'southern_us', 'mexican', 'french', 'indian', 'chinese', 'thai', 'french', 'mexican', 'thai', 'italian', 'italian', 'japanese', 'indian', 'southern_us', 'french', 'french', 'indian', 'indian', 'indian', 'southern_us', 'indian', 'italian', 'southern_us', 'vietnamese', 'mexican', 'southern_us', 'italian', 'southern_us', 'french', 'indian', 'mexican', 'italian', 'spanish', 'mexican', 'thai', 'vietnamese', 'italian', 'mexican', 'italian', 'italian', 'italian', 'chinese', 'cajun_creole', 'italian', 'moroccan', 'italian', 'mexican', 'brazilian', 'thai', 'irish', 'italian', 'irish', 'italian', 'italian', 'greek', 'southern_us', 'french', 'moroccan', 'mexican', 'mexican', 'mexican', 'italian', 'spanish', 'filipino', 'chinese', 'mexican', 'italian', 'mexican', 'italian', 'british', 'british', 'italian', 'french', 'indian', 'indian', 'indian', 'thai', 'greek', 'irish', 'jamaican', 'chinese', 'mexican', 'mexican', 'italian', 'italian', 'cajun_creole', 'french', 'french', 'mexican', 'italian', 'spanish', 'southern_us', 'russian', 'french', 'mexican', 'southern_us', 'thai', 'thai', 'italian', 'greek', 'southern_us', 'russian', 'mexican', 'italian', 'italian', 'filipino', 'mexican', 'french', 'indian', 'thai', 'mexican', 'southern_us', 'mexican', 'mexican', 'indian', 'cajun_creole', 'brazilian', 'mexican', 'french', 'cajun_creole', 'french', 'chinese', 'french', 'moroccan', 'mexican', 'spanish', 'vietnamese', 'italian', 'irish', 'italian', 'italian', 'italian', 'italian', 'french', 'italian', 'indian', 'thai', 'cajun_creole', 'indian', 'thai', 'indian', 'mexican', 'cajun_creole', 'spanish', 'southern_us', 'indian', 'italian', 'spanish', 'italian', 'indian', 'italian', 'mexican', 'italian', 'mexican', 'italian', 'italian', 'brazilian', 'irish', 'mexican', 'italian', 'french', 'indian', 'spanish', 'mexican', 'italian', 'thai', 'moroccan', 'southern_us', 'greek', 'greek', 'italian', 'mexican', 'irish', 'italian', 'italian', 'italian', 'cajun_creole', 'mexican', 'italian', 'thai', 'french', 'italian', 'thai', 'italian', 'southern_us', 'cajun_creole', 'mexican', 'french', 'italian', 'jamaican', 'moroccan', 'moroccan', 'italian', 'mexican', 'italian', 'mexican', 'indian', 'italian', 'spanish', 'mexican', 'southern_us', 'southern_us', 'mexican', 'chinese', 'southern_us', 'mexican', 'italian', 'french', 'southern_us', 'french', 'indian', 'indian', 'thai', 'japanese', 'mexican', 'mexican', 'cajun_creole', 'mexican', 'indian', 'italian', 'italian', 'chinese', 'italian', 'french', 'indian', 'southern_us', 'indian', 'japanese', 'indian', 'mexican', 'southern_us', 'thai', 'italian', 'chinese', 'italian', 'thai', 'italian', 'italian', 'french', 'indian', 'indian', 'italian', 'chinese', 'jamaican', 'chinese', 'indian', 'italian', 'indian', 'thai', 'italian', 'chinese', 'italian', 'filipino', 'cajun_creole', 'southern_us', 'thai', 'moroccan', 'indian', 'chinese', 'indian', 'italian', 'irish', 'southern_us', 'chinese', 'southern_us', 'chinese', 'indian', 'spanish', 'chinese', 'korean', 'mexican', 'chinese', 'mexican', 'thai', 'thai', 'korean', 'italian', 'jamaican', 'italian', 'chinese', 'italian', 'french', 'italian', 'mexican', 'mexican', 'mexican', 'mexican', 'italian', 'southern_us', 'indian', 'italian', 'indian', 'thai', 'mexican', 'italian', 'greek', 'jamaican', 'southern_us', 'chinese', 'thai', 'southern_us', 'thai', 'mexican', 'southern_us', 'mexican', 'filipino', 'italian', 'italian', 'brazilian', 'indian', 'chinese', 'greek', 'mexican', 'mexican', 'french', 'british', 'southern_us', 'italian', 'irish', 'mexican', 'brazilian', 'mexican', 'italian', 'italian', 'mexican', 'italian', 'french', 'mexican', 'italian', 'vietnamese', 'indian', 'french', 'vietnamese', 'japanese', 'italian', 'mexican', 'mexican', 'italian', 'italian', 'french', 'italian', 'indian', 'korean', 'southern_us', 'french', 'cajun_creole', 'chinese', 'korean', 'italian', 'indian', 'cajun_creole', 'southern_us', 'mexican', 'italian', 'chinese', 'italian', 'italian', 'italian', 'cajun_creole', 'thai', 'indian', 'indian', 'thai', 'southern_us', 'italian', 'thai', 'cajun_creole', 'mexican', 'indian', 'chinese', 'mexican', 'french', 'southern_us', 'indian', 'thai', 'cajun_creole', 'southern_us', 'indian', 'chinese', 'mexican', 'filipino', 'mexican', 'indian', 'southern_us', 'spanish', 'indian', 'mexican', 'greek', 'mexican', 'italian', 'indian', 'italian', 'italian', 'chinese', 'mexican', 'indian', 'mexican', 'indian', 'chinese', 'mexican', 'irish', 'japanese', 'mexican', 'brazilian', 'southern_us', 'french', 'italian', 'jamaican', 'mexican', 'italian', 'spanish', 'chinese', 'southern_us', 'moroccan', 'southern_us', 'french', 'indian', 'mexican', 'irish', 'italian', 'italian', 'southern_us', 'thai', 'mexican', 'italian', 'thai', 'thai', 'japanese', 'italian', 'thai', 'chinese', 'italian', 'southern_us', 'chinese', 'vietnamese', 'vietnamese', 'mexican', 'italian', 'chinese', 'indian', 'chinese', 'spanish', 'italian', 'italian', 'mexican', 'moroccan', 'cajun_creole', 'indian', 'french', 'southern_us', 'southern_us', 'mexican', 'french', 'brazilian', 'chinese', 'japanese', 'italian', 'vietnamese', 'italian', 'southern_us', 'italian', 'italian', 'japanese', 'mexican', 'italian', 'italian', 'mexican', 'chinese', 'mexican', 'thai', 'vietnamese', 'chinese', 'cajun_creole', 'french', 'indian', 'irish', 'italian', 'moroccan', 'italian', 'british', 'spanish', 'italian', 'greek', 'italian', 'irish', 'southern_us', 'italian', 'mexican', 'southern_us', 'indian', 'southern_us', 'filipino', 'indian', 'indian', 'chinese', 'spanish', 'mexican', 'british', 'italian', 'chinese', 'spanish', 'italian', 'southern_us', 'italian', 'thai', 'italian', 'italian', 'jamaican', 'italian', 'southern_us', 'mexican', 'thai', 'italian', 'mexican', 'indian', 'mexican', 'southern_us', 'brazilian', 'italian', 'italian', 'italian', 'british', 'italian', 'italian', 'southern_us', 'cajun_creole', 'italian', 'italian', 'indian', 'thai', 'italian', 'vietnamese', 'greek', 'italian', 'chinese', 'french', 'japanese', 'chinese', 'chinese', 'southern_us', 'mexican', 'chinese', 'greek', 'french', 'italian', 'thai', 'thai', 'jamaican', 'thai', 'italian', 'southern_us', 'mexican', 'italian', 'french', 'southern_us', 'italian', 'southern_us', 'mexican', 'french', 'southern_us', 'french', 'greek', 'japanese', 'french', 'vietnamese', 'mexican', 'italian', 'southern_us', 'thai', 'irish', 'chinese', 'mexican', 'british', 'italian', 'italian', 'italian', 'french', 'jamaican', 'italian', 'indian', 'mexican', 'southern_us', 'mexican', 'mexican', 'italian', 'southern_us', 'italian', 'italian', 'cajun_creole', 'french', 'southern_us', 'italian', 'greek', 'italian', 'mexican', 'russian', 'jamaican', 'italian', 'chinese', 'spanish', 'italian', 'chinese', 'chinese', 'indian', 'mexican', 'moroccan', 'mexican', 'japanese', 'southern_us', 'french', 'mexican', 'chinese', 'irish', 'italian', 'italian', 'mexican', 'chinese', 'thai', 'french', 'moroccan', 'southern_us', 'italian', 'spanish', 'british', 'italian', 'italian', 'italian', 'greek', 'mexican', 'korean', 'jamaican', 'chinese', 'italian', 'italian', 'chinese', 'thai', 'italian', 'italian', 'mexican', 'italian', 'greek', 'thai', 'korean', 'italian', 'indian', 'southern_us', 'italian', 'french', 'southern_us', 'mexican', 'cajun_creole', 'korean', 'indian', 'moroccan', 'italian', 'mexican', 'mexican', 'jamaican', 'chinese', 'italian', 'indian', 'italian', 'chinese', 'japanese', 'italian', 'mexican', 'italian', 'chinese', 'mexican', 'chinese', 'chinese', 'mexican', 'british', 'mexican', 'italian', 'french', 'italian', 'mexican', 'irish', 'italian', 'indian', 'mexican', 'italian', 'moroccan', 'southern_us', 'italian', 'italian', 'southern_us', 'mexican', 'french', 'korean', 'cajun_creole', 'italian', 'mexican', 'thai', 'greek', 'mexican', 'italian', 'indian', 'british', 'southern_us', 'indian', 'southern_us', 'mexican', 'mexican', 'mexican', 'japanese', 'japanese', 'italian', 'southern_us', 'mexican', 'indian', 'indian', 'southern_us', 'italian', 'southern_us', 'chinese', 'cajun_creole', 'indian', 'french', 'italian', 'cajun_creole', 'italian', 'french', 'chinese', 'italian', 'indian', 'italian', 'italian', 'jamaican', 'chinese', 'vietnamese', 'korean', 'mexican', 'greek', 'indian', 'southern_us', 'southern_us', 'indian', 'southern_us', 'french', 'mexican', 'mexican', 'italian', 'indian', 'italian', 'southern_us', 'southern_us', 'mexican', 'southern_us', 'chinese', 'southern_us', 'southern_us', 'mexican', 'italian', 'southern_us', 'japanese', 'mexican', 'mexican', 'italian', 'cajun_creole', 'italian', 'chinese', 'irish', 'moroccan', 'french', 'vietnamese', 'mexican', 'southern_us', 'french', 'southern_us', 'italian', 'mexican', 'indian', 'mexican', 'greek', 'filipino', 'chinese', 'greek', 'italian', 'southern_us', 'french', 'southern_us', 'indian', 'thai', 'mexican', 'italian', 'italian', 'french', 'greek', 'indian', 'vietnamese', 'italian', 'french', 'indian', 'italian', 'mexican', 'italian', 'spanish', 'british', 'southern_us', 'italian', 'southern_us', 'indian', 'cajun_creole', 'chinese', 'southern_us', 'southern_us', 'mexican', 'indian', 'southern_us', 'southern_us', 'japanese', 'mexican', 'italian', 'italian', 'irish', 'chinese', 'southern_us', 'spanish', 'indian', 'italian', 'southern_us', 'southern_us', 'italian', 'mexican', 'jamaican', 'indian', 'chinese', 'thai', 'jamaican', 'greek', 'mexican', 'italian', 'italian', 'cajun_creole', 'moroccan', 'indian', 'japanese', 'irish', 'italian', 'mexican', 'filipino', 'indian', 'cajun_creole', 'japanese', 'filipino', 'mexican', 'chinese', 'indian', 'italian', 'brazilian', 'cajun_creole', 'southern_us', 'mexican', 'mexican', 'italian', 'indian', 'italian', 'cajun_creole', 'chinese', 'filipino', 'mexican', 'italian', 'indian', 'italian', 'cajun_creole', 'italian', 'indian', 'italian', 'italian', 'southern_us', 'mexican', 'indian', 'mexican', 'spanish', 'mexican', 'chinese', 'southern_us', 'chinese', 'southern_us', 'italian', 'mexican', 'italian', 'italian', 'vietnamese', 'mexican', 'chinese', 'southern_us', 'mexican', 'mexican', 'cajun_creole', 'japanese', 'french', 'mexican', 'italian', 'cajun_creole', 'indian', 'italian', 'italian', 'cajun_creole', 'mexican', 'spanish', 'british', 'chinese', 'french', 'british', 'indian', 'italian', 'mexican', 'cajun_creole', 'irish', 'italian', 'thai', 'italian', 'french', 'mexican', 'mexican', 'chinese', 'chinese', 'thai', 'spanish', 'chinese', 'french', 'chinese', 'indian', 'vietnamese', 'filipino', 'southern_us', 'chinese', 'vietnamese', 'southern_us', 'italian', 'cajun_creole', 'italian', 'italian', 'russian', 'japanese', 'russian', 'chinese', 'greek', 'french', 'southern_us', 'southern_us', 'irish', 'italian', 'italian', 'mexican', 'italian', 'mexican', 'french', 'italian', 'southern_us', 'irish', 'jamaican', 'mexican', 'french', 'chinese', 'mexican', 'mexican', 'italian', 'mexican', 'italian', 'spanish', 'italian', 'italian', 'irish', 'italian', 'italian', 'british', 'southern_us', 'french', 'cajun_creole', 'southern_us', 'greek', 'italian', 'chinese', 'cajun_creole', 'mexican', 'southern_us', 'mexican', 'british', 'chinese', 'mexican', 'japanese', 'irish', 'southern_us', 'mexican', 'mexican', 'french', 'mexican', 'italian', 'mexican', 'thai', 'indian', 'italian', 'filipino', 'mexican', 'thai', 'mexican', 'italian', 'french', 'cajun_creole', 'southern_us', 'thai', 'chinese', 'southern_us', 'italian', 'italian', 'chinese', 'vietnamese', 'mexican', 'thai', 'mexican', 'italian', 'mexican', 'brazilian', 'greek', 'mexican', 'korean', 'mexican', 'moroccan', 'french', 'italian', 'thai', 'italian', 'southern_us', 'french', 'southern_us', 'thai', 'korean', 'japanese', 'thai', 'southern_us', 'italian', 'italian', 'thai', 'mexican', 'japanese', 'greek', 'french', 'french', 'korean', 'japanese', 'mexican', 'mexican', 'italian', 'indian', 'irish', 'chinese', 'italian', 'mexican', 'moroccan', 'italian', 'french', 'thai', 'chinese', 'mexican', 'mexican', 'mexican', 'italian', 'southern_us', 'italian', 'chinese', 'spanish', 'french', 'italian', 'french', 'thai', 'italian', 'indian', 'mexican', 'southern_us', 'southern_us', 'chinese', 'moroccan', 'mexican', 'mexican', 'chinese', 'mexican', 'greek', 'spanish', 'chinese', 'french', 'chinese', 'cajun_creole', 'italian', 'indian', 'irish', 'indian', 'filipino', 'vietnamese', 'mexican', 'italian', 'italian', 'greek', 'italian', 'italian', 'mexican', 'cajun_creole', 'cajun_creole', 'french', 'irish', 'moroccan', 'vietnamese', 'thai', 'italian', 'chinese', 'mexican', 'mexican', 'italian', 'brazilian', 'italian', 'italian', 'mexican', 'thai', 'japanese', 'mexican', 'greek', 'indian', 'chinese', 'italian', 'indian', 'mexican', 'southern_us', 'southern_us', 'mexican', 'french', 'indian', 'cajun_creole', 'thai', 'korean', 'british', 'cajun_creole', 'italian', 'japanese', 'italian', 'mexican', 'mexican', 'italian', 'southern_us', 'british', 'french', 'italian', 'greek', 'brazilian', 'cajun_creole', 'moroccan', 'cajun_creole', 'jamaican', 'spanish', 'southern_us', 'mexican', 'british', 'italian', 'southern_us', 'italian', 'italian', 'italian', 'chinese', 'mexican', 'italian', 'indian', 'cajun_creole', 'indian', 'mexican', 'italian', 'cajun_creole', 'chinese', 'italian', 'mexican', 'southern_us', 'irish', 'filipino', 'italian', 'cajun_creole', 'italian', 'chinese', 'southern_us', 'chinese', 'italian', 'mexican', 'japanese', 'southern_us', 'italian', 'cajun_creole', 'indian', 'southern_us', 'southern_us', 'chinese', 'indian', 'italian', 'italian', 'italian', 'southern_us', 'cajun_creole', 'italian', 'mexican', 'vietnamese', 'italian', 'indian', 'mexican', 'italian', 'moroccan', 'mexican', 'indian', 'mexican', 'indian', 'french', 'southern_us', 'indian', 'indian', 'japanese', 'italian', 'mexican', 'mexican', 'moroccan']\n"
     ]
    }
   ],
   "source": [
    "print(val_result)"
   ]
  },
  {
   "cell_type": "code",
   "execution_count": 142,
   "metadata": {},
   "outputs": [
    {
     "name": "stdout",
     "output_type": "stream",
     "text": [
      "0       29774\n",
      "1       29775\n",
      "2       29776\n",
      "3       29777\n",
      "4       29778\n",
      "5       29779\n",
      "6       29780\n",
      "7       29781\n",
      "8       29782\n",
      "9       29783\n",
      "10      29784\n",
      "11      29785\n",
      "12      29786\n",
      "13      29787\n",
      "14      29788\n",
      "15      29789\n",
      "16      29790\n",
      "17      29791\n",
      "18      29792\n",
      "19      29793\n",
      "20      29794\n",
      "21      29795\n",
      "22      29796\n",
      "23      29797\n",
      "24      29798\n",
      "25      29799\n",
      "26      29800\n",
      "27      29801\n",
      "28      29802\n",
      "29      29803\n",
      "        ...  \n",
      "9970    39744\n",
      "9971    39745\n",
      "9972    39746\n",
      "9973    39747\n",
      "9974    39748\n",
      "9975    39749\n",
      "9976    39750\n",
      "9977    39751\n",
      "9978    39752\n",
      "9979    39753\n",
      "9980    39754\n",
      "9981    39755\n",
      "9982    39756\n",
      "9983    39757\n",
      "9984    39758\n",
      "9985    39759\n",
      "9986    39760\n",
      "9987    39761\n",
      "9988    39762\n",
      "9989    39763\n",
      "9990    39764\n",
      "9991    39765\n",
      "9992    39766\n",
      "9993    39767\n",
      "9994    39768\n",
      "9995    39769\n",
      "9996    39770\n",
      "9997    39771\n",
      "9998    39772\n",
      "9999    39773\n",
      "Name: id, Length: 10000, dtype: int64\n"
     ]
    }
   ],
   "source": [
    "Submission = pd.DataFrame()\n",
    "Submission['id'] =df_test.id\n",
    "print(Submission['id'])"
   ]
  },
  {
   "cell_type": "code",
   "execution_count": 143,
   "metadata": {},
   "outputs": [],
   "source": [
    "feats = df_test.select_dtypes(include=[np.number]).drop(['id'], axis=1).interpolate()"
   ]
  },
  {
   "cell_type": "code",
   "execution_count": 144,
   "metadata": {},
   "outputs": [],
   "source": [
    "Submission['cuisine'] = val_result\n"
   ]
  },
  {
   "cell_type": "code",
   "execution_count": 145,
   "metadata": {},
   "outputs": [],
   "source": [
    "Submission.to_csv('Abdallahman_Habyarimana.csv', index=False)"
   ]
  },
  {
   "cell_type": "code",
   "execution_count": null,
   "metadata": {},
   "outputs": [],
   "source": []
  }
 ],
 "metadata": {
  "kernelspec": {
   "display_name": "Python 3",
   "language": "python",
   "name": "python3"
  },
  "language_info": {
   "codemirror_mode": {
    "name": "ipython",
    "version": 3
   },
   "file_extension": ".py",
   "mimetype": "text/x-python",
   "name": "python",
   "nbconvert_exporter": "python",
   "pygments_lexer": "ipython3",
   "version": "3.6.0"
  }
 },
 "nbformat": 4,
 "nbformat_minor": 2
}
